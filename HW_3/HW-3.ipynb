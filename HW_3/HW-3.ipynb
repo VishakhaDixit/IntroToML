{
 "cells": [
  {
   "cell_type": "code",
   "execution_count": 1,
   "id": "83bf7594",
   "metadata": {},
   "outputs": [],
   "source": [
    "# Vishakha Dixit\n",
    "# 801265288\n",
    "# HW-2\n",
    "\n",
    "from sklearn.datasets import load_breast_cancer \n",
    "import numpy as np \n",
    "import pandas as pd \n",
    "import matplotlib.pyplot as plt\n",
    "from sklearn.model_selection import train_test_split\n",
    "import random\n",
    "from sklearn.naive_bayes import GaussianNB \n",
    "from sklearn.preprocessing import StandardScaler\n",
    "from sklearn.linear_model import LogisticRegression \n",
    "from sklearn.metrics import confusion_matrix\n",
    "from sklearn import metrics\n",
    "import seaborn as sns\n",
    "from sklearn.decomposition import PCA "
   ]
  },
  {
   "cell_type": "code",
   "execution_count": 2,
   "id": "257ebfce",
   "metadata": {},
   "outputs": [],
   "source": [
    "# Problem 1\n",
    "# Use the cancer dataset to build a Naïve Bayesian model to classify the type of cancer (Malignant vs. benign). \n",
    "# Plot your classification accuracy, precision, and recall over a different number of Ks. \n",
    "# Explain and elaborate on your results. Can you compare your results against the logistic \n",
    "# regression classifier you did in previous homework."
   ]
  },
  {
   "cell_type": "code",
   "execution_count": 3,
   "id": "dcdae44a",
   "metadata": {},
   "outputs": [
    {
     "data": {
      "text/html": [
       "<div>\n",
       "<style scoped>\n",
       "    .dataframe tbody tr th:only-of-type {\n",
       "        vertical-align: middle;\n",
       "    }\n",
       "\n",
       "    .dataframe tbody tr th {\n",
       "        vertical-align: top;\n",
       "    }\n",
       "\n",
       "    .dataframe thead th {\n",
       "        text-align: right;\n",
       "    }\n",
       "</style>\n",
       "<table border=\"1\" class=\"dataframe\">\n",
       "  <thead>\n",
       "    <tr style=\"text-align: right;\">\n",
       "      <th></th>\n",
       "      <th>0</th>\n",
       "      <th>1</th>\n",
       "      <th>2</th>\n",
       "      <th>3</th>\n",
       "      <th>4</th>\n",
       "      <th>5</th>\n",
       "      <th>6</th>\n",
       "      <th>7</th>\n",
       "      <th>8</th>\n",
       "      <th>9</th>\n",
       "      <th>...</th>\n",
       "      <th>20</th>\n",
       "      <th>21</th>\n",
       "      <th>22</th>\n",
       "      <th>23</th>\n",
       "      <th>24</th>\n",
       "      <th>25</th>\n",
       "      <th>26</th>\n",
       "      <th>27</th>\n",
       "      <th>28</th>\n",
       "      <th>29</th>\n",
       "    </tr>\n",
       "  </thead>\n",
       "  <tbody>\n",
       "    <tr>\n",
       "      <th>0</th>\n",
       "      <td>17.99</td>\n",
       "      <td>10.38</td>\n",
       "      <td>122.80</td>\n",
       "      <td>1001.0</td>\n",
       "      <td>0.11840</td>\n",
       "      <td>0.27760</td>\n",
       "      <td>0.3001</td>\n",
       "      <td>0.14710</td>\n",
       "      <td>0.2419</td>\n",
       "      <td>0.07871</td>\n",
       "      <td>...</td>\n",
       "      <td>25.38</td>\n",
       "      <td>17.33</td>\n",
       "      <td>184.60</td>\n",
       "      <td>2019.0</td>\n",
       "      <td>0.1622</td>\n",
       "      <td>0.6656</td>\n",
       "      <td>0.7119</td>\n",
       "      <td>0.2654</td>\n",
       "      <td>0.4601</td>\n",
       "      <td>0.11890</td>\n",
       "    </tr>\n",
       "    <tr>\n",
       "      <th>1</th>\n",
       "      <td>20.57</td>\n",
       "      <td>17.77</td>\n",
       "      <td>132.90</td>\n",
       "      <td>1326.0</td>\n",
       "      <td>0.08474</td>\n",
       "      <td>0.07864</td>\n",
       "      <td>0.0869</td>\n",
       "      <td>0.07017</td>\n",
       "      <td>0.1812</td>\n",
       "      <td>0.05667</td>\n",
       "      <td>...</td>\n",
       "      <td>24.99</td>\n",
       "      <td>23.41</td>\n",
       "      <td>158.80</td>\n",
       "      <td>1956.0</td>\n",
       "      <td>0.1238</td>\n",
       "      <td>0.1866</td>\n",
       "      <td>0.2416</td>\n",
       "      <td>0.1860</td>\n",
       "      <td>0.2750</td>\n",
       "      <td>0.08902</td>\n",
       "    </tr>\n",
       "    <tr>\n",
       "      <th>2</th>\n",
       "      <td>19.69</td>\n",
       "      <td>21.25</td>\n",
       "      <td>130.00</td>\n",
       "      <td>1203.0</td>\n",
       "      <td>0.10960</td>\n",
       "      <td>0.15990</td>\n",
       "      <td>0.1974</td>\n",
       "      <td>0.12790</td>\n",
       "      <td>0.2069</td>\n",
       "      <td>0.05999</td>\n",
       "      <td>...</td>\n",
       "      <td>23.57</td>\n",
       "      <td>25.53</td>\n",
       "      <td>152.50</td>\n",
       "      <td>1709.0</td>\n",
       "      <td>0.1444</td>\n",
       "      <td>0.4245</td>\n",
       "      <td>0.4504</td>\n",
       "      <td>0.2430</td>\n",
       "      <td>0.3613</td>\n",
       "      <td>0.08758</td>\n",
       "    </tr>\n",
       "    <tr>\n",
       "      <th>3</th>\n",
       "      <td>11.42</td>\n",
       "      <td>20.38</td>\n",
       "      <td>77.58</td>\n",
       "      <td>386.1</td>\n",
       "      <td>0.14250</td>\n",
       "      <td>0.28390</td>\n",
       "      <td>0.2414</td>\n",
       "      <td>0.10520</td>\n",
       "      <td>0.2597</td>\n",
       "      <td>0.09744</td>\n",
       "      <td>...</td>\n",
       "      <td>14.91</td>\n",
       "      <td>26.50</td>\n",
       "      <td>98.87</td>\n",
       "      <td>567.7</td>\n",
       "      <td>0.2098</td>\n",
       "      <td>0.8663</td>\n",
       "      <td>0.6869</td>\n",
       "      <td>0.2575</td>\n",
       "      <td>0.6638</td>\n",
       "      <td>0.17300</td>\n",
       "    </tr>\n",
       "    <tr>\n",
       "      <th>4</th>\n",
       "      <td>20.29</td>\n",
       "      <td>14.34</td>\n",
       "      <td>135.10</td>\n",
       "      <td>1297.0</td>\n",
       "      <td>0.10030</td>\n",
       "      <td>0.13280</td>\n",
       "      <td>0.1980</td>\n",
       "      <td>0.10430</td>\n",
       "      <td>0.1809</td>\n",
       "      <td>0.05883</td>\n",
       "      <td>...</td>\n",
       "      <td>22.54</td>\n",
       "      <td>16.67</td>\n",
       "      <td>152.20</td>\n",
       "      <td>1575.0</td>\n",
       "      <td>0.1374</td>\n",
       "      <td>0.2050</td>\n",
       "      <td>0.4000</td>\n",
       "      <td>0.1625</td>\n",
       "      <td>0.2364</td>\n",
       "      <td>0.07678</td>\n",
       "    </tr>\n",
       "  </tbody>\n",
       "</table>\n",
       "<p>5 rows × 30 columns</p>\n",
       "</div>"
      ],
      "text/plain": [
       "      0      1       2       3        4        5       6        7       8   \\\n",
       "0  17.99  10.38  122.80  1001.0  0.11840  0.27760  0.3001  0.14710  0.2419   \n",
       "1  20.57  17.77  132.90  1326.0  0.08474  0.07864  0.0869  0.07017  0.1812   \n",
       "2  19.69  21.25  130.00  1203.0  0.10960  0.15990  0.1974  0.12790  0.2069   \n",
       "3  11.42  20.38   77.58   386.1  0.14250  0.28390  0.2414  0.10520  0.2597   \n",
       "4  20.29  14.34  135.10  1297.0  0.10030  0.13280  0.1980  0.10430  0.1809   \n",
       "\n",
       "        9   ...     20     21      22      23      24      25      26      27  \\\n",
       "0  0.07871  ...  25.38  17.33  184.60  2019.0  0.1622  0.6656  0.7119  0.2654   \n",
       "1  0.05667  ...  24.99  23.41  158.80  1956.0  0.1238  0.1866  0.2416  0.1860   \n",
       "2  0.05999  ...  23.57  25.53  152.50  1709.0  0.1444  0.4245  0.4504  0.2430   \n",
       "3  0.09744  ...  14.91  26.50   98.87   567.7  0.2098  0.8663  0.6869  0.2575   \n",
       "4  0.05883  ...  22.54  16.67  152.20  1575.0  0.1374  0.2050  0.4000  0.1625   \n",
       "\n",
       "       28       29  \n",
       "0  0.4601  0.11890  \n",
       "1  0.2750  0.08902  \n",
       "2  0.3613  0.08758  \n",
       "3  0.6638  0.17300  \n",
       "4  0.2364  0.07678  \n",
       "\n",
       "[5 rows x 30 columns]"
      ]
     },
     "execution_count": 3,
     "metadata": {},
     "output_type": "execute_result"
    }
   ],
   "source": [
    "#variable to hold data\n",
    "breast_cancer = load_breast_cancer()\n",
    "\n",
    "input_data = pd.DataFrame(breast_cancer.data)\n",
    "input_data.head()"
   ]
  },
  {
   "cell_type": "code",
   "execution_count": 4,
   "id": "68abd85d",
   "metadata": {},
   "outputs": [
    {
     "data": {
      "text/plain": [
       "(569,)"
      ]
     },
     "execution_count": 4,
     "metadata": {},
     "output_type": "execute_result"
    }
   ],
   "source": [
    "#data labels\n",
    "labels=breast_cancer.target\n",
    "labels.shape"
   ]
  },
  {
   "cell_type": "code",
   "execution_count": 5,
   "id": "7c8d5d32",
   "metadata": {},
   "outputs": [],
   "source": [
    "#reshape data into usefull info\n",
    "labels = np.reshape(labels,(569,1))\n",
    "#Add label to data set\n",
    "final_breast_data = np.concatenate([input_data,labels],axis=1)"
   ]
  },
  {
   "cell_type": "code",
   "execution_count": 6,
   "id": "bdc0257c",
   "metadata": {},
   "outputs": [
    {
     "data": {
      "text/plain": [
       "array(['mean radius', 'mean texture', 'mean perimeter', 'mean area',\n",
       "       'mean smoothness', 'mean compactness', 'mean concavity',\n",
       "       'mean concave points', 'mean symmetry', 'mean fractal dimension',\n",
       "       'radius error', 'texture error', 'perimeter error', 'area error',\n",
       "       'smoothness error', 'compactness error', 'concavity error',\n",
       "       'concave points error', 'symmetry error',\n",
       "       'fractal dimension error', 'worst radius', 'worst texture',\n",
       "       'worst perimeter', 'worst area', 'worst smoothness',\n",
       "       'worst compactness', 'worst concavity', 'worst concave points',\n",
       "       'worst symmetry', 'worst fractal dimension'], dtype='<U23')"
      ]
     },
     "execution_count": 6,
     "metadata": {},
     "output_type": "execute_result"
    }
   ],
   "source": [
    "breast_dataset = pd.DataFrame(final_breast_data)\n",
    "features = breast_cancer.feature_names\n",
    "features"
   ]
  },
  {
   "cell_type": "code",
   "execution_count": 7,
   "id": "32703e71",
   "metadata": {},
   "outputs": [
    {
     "data": {
      "text/html": [
       "<div>\n",
       "<style scoped>\n",
       "    .dataframe tbody tr th:only-of-type {\n",
       "        vertical-align: middle;\n",
       "    }\n",
       "\n",
       "    .dataframe tbody tr th {\n",
       "        vertical-align: top;\n",
       "    }\n",
       "\n",
       "    .dataframe thead th {\n",
       "        text-align: right;\n",
       "    }\n",
       "</style>\n",
       "<table border=\"1\" class=\"dataframe\">\n",
       "  <thead>\n",
       "    <tr style=\"text-align: right;\">\n",
       "      <th></th>\n",
       "      <th>mean radius</th>\n",
       "      <th>mean texture</th>\n",
       "      <th>mean perimeter</th>\n",
       "      <th>mean area</th>\n",
       "      <th>mean smoothness</th>\n",
       "      <th>mean compactness</th>\n",
       "      <th>mean concavity</th>\n",
       "      <th>mean concave points</th>\n",
       "      <th>mean symmetry</th>\n",
       "      <th>mean fractal dimension</th>\n",
       "      <th>...</th>\n",
       "      <th>worst texture</th>\n",
       "      <th>worst perimeter</th>\n",
       "      <th>worst area</th>\n",
       "      <th>worst smoothness</th>\n",
       "      <th>worst compactness</th>\n",
       "      <th>worst concavity</th>\n",
       "      <th>worst concave points</th>\n",
       "      <th>worst symmetry</th>\n",
       "      <th>worst fractal dimension</th>\n",
       "      <th>test</th>\n",
       "    </tr>\n",
       "  </thead>\n",
       "  <tbody>\n",
       "    <tr>\n",
       "      <th>0</th>\n",
       "      <td>17.99</td>\n",
       "      <td>10.38</td>\n",
       "      <td>122.80</td>\n",
       "      <td>1001.0</td>\n",
       "      <td>0.11840</td>\n",
       "      <td>0.27760</td>\n",
       "      <td>0.3001</td>\n",
       "      <td>0.14710</td>\n",
       "      <td>0.2419</td>\n",
       "      <td>0.07871</td>\n",
       "      <td>...</td>\n",
       "      <td>17.33</td>\n",
       "      <td>184.60</td>\n",
       "      <td>2019.0</td>\n",
       "      <td>0.1622</td>\n",
       "      <td>0.6656</td>\n",
       "      <td>0.7119</td>\n",
       "      <td>0.2654</td>\n",
       "      <td>0.4601</td>\n",
       "      <td>0.11890</td>\n",
       "      <td>0.0</td>\n",
       "    </tr>\n",
       "    <tr>\n",
       "      <th>1</th>\n",
       "      <td>20.57</td>\n",
       "      <td>17.77</td>\n",
       "      <td>132.90</td>\n",
       "      <td>1326.0</td>\n",
       "      <td>0.08474</td>\n",
       "      <td>0.07864</td>\n",
       "      <td>0.0869</td>\n",
       "      <td>0.07017</td>\n",
       "      <td>0.1812</td>\n",
       "      <td>0.05667</td>\n",
       "      <td>...</td>\n",
       "      <td>23.41</td>\n",
       "      <td>158.80</td>\n",
       "      <td>1956.0</td>\n",
       "      <td>0.1238</td>\n",
       "      <td>0.1866</td>\n",
       "      <td>0.2416</td>\n",
       "      <td>0.1860</td>\n",
       "      <td>0.2750</td>\n",
       "      <td>0.08902</td>\n",
       "      <td>0.0</td>\n",
       "    </tr>\n",
       "    <tr>\n",
       "      <th>2</th>\n",
       "      <td>19.69</td>\n",
       "      <td>21.25</td>\n",
       "      <td>130.00</td>\n",
       "      <td>1203.0</td>\n",
       "      <td>0.10960</td>\n",
       "      <td>0.15990</td>\n",
       "      <td>0.1974</td>\n",
       "      <td>0.12790</td>\n",
       "      <td>0.2069</td>\n",
       "      <td>0.05999</td>\n",
       "      <td>...</td>\n",
       "      <td>25.53</td>\n",
       "      <td>152.50</td>\n",
       "      <td>1709.0</td>\n",
       "      <td>0.1444</td>\n",
       "      <td>0.4245</td>\n",
       "      <td>0.4504</td>\n",
       "      <td>0.2430</td>\n",
       "      <td>0.3613</td>\n",
       "      <td>0.08758</td>\n",
       "      <td>0.0</td>\n",
       "    </tr>\n",
       "    <tr>\n",
       "      <th>3</th>\n",
       "      <td>11.42</td>\n",
       "      <td>20.38</td>\n",
       "      <td>77.58</td>\n",
       "      <td>386.1</td>\n",
       "      <td>0.14250</td>\n",
       "      <td>0.28390</td>\n",
       "      <td>0.2414</td>\n",
       "      <td>0.10520</td>\n",
       "      <td>0.2597</td>\n",
       "      <td>0.09744</td>\n",
       "      <td>...</td>\n",
       "      <td>26.50</td>\n",
       "      <td>98.87</td>\n",
       "      <td>567.7</td>\n",
       "      <td>0.2098</td>\n",
       "      <td>0.8663</td>\n",
       "      <td>0.6869</td>\n",
       "      <td>0.2575</td>\n",
       "      <td>0.6638</td>\n",
       "      <td>0.17300</td>\n",
       "      <td>0.0</td>\n",
       "    </tr>\n",
       "    <tr>\n",
       "      <th>4</th>\n",
       "      <td>20.29</td>\n",
       "      <td>14.34</td>\n",
       "      <td>135.10</td>\n",
       "      <td>1297.0</td>\n",
       "      <td>0.10030</td>\n",
       "      <td>0.13280</td>\n",
       "      <td>0.1980</td>\n",
       "      <td>0.10430</td>\n",
       "      <td>0.1809</td>\n",
       "      <td>0.05883</td>\n",
       "      <td>...</td>\n",
       "      <td>16.67</td>\n",
       "      <td>152.20</td>\n",
       "      <td>1575.0</td>\n",
       "      <td>0.1374</td>\n",
       "      <td>0.2050</td>\n",
       "      <td>0.4000</td>\n",
       "      <td>0.1625</td>\n",
       "      <td>0.2364</td>\n",
       "      <td>0.07678</td>\n",
       "      <td>0.0</td>\n",
       "    </tr>\n",
       "  </tbody>\n",
       "</table>\n",
       "<p>5 rows × 31 columns</p>\n",
       "</div>"
      ],
      "text/plain": [
       "   mean radius  mean texture  mean perimeter  mean area  mean smoothness  \\\n",
       "0        17.99         10.38          122.80     1001.0          0.11840   \n",
       "1        20.57         17.77          132.90     1326.0          0.08474   \n",
       "2        19.69         21.25          130.00     1203.0          0.10960   \n",
       "3        11.42         20.38           77.58      386.1          0.14250   \n",
       "4        20.29         14.34          135.10     1297.0          0.10030   \n",
       "\n",
       "   mean compactness  mean concavity  mean concave points  mean symmetry  \\\n",
       "0           0.27760          0.3001              0.14710         0.2419   \n",
       "1           0.07864          0.0869              0.07017         0.1812   \n",
       "2           0.15990          0.1974              0.12790         0.2069   \n",
       "3           0.28390          0.2414              0.10520         0.2597   \n",
       "4           0.13280          0.1980              0.10430         0.1809   \n",
       "\n",
       "   mean fractal dimension  ...  worst texture  worst perimeter  worst area  \\\n",
       "0                 0.07871  ...          17.33           184.60      2019.0   \n",
       "1                 0.05667  ...          23.41           158.80      1956.0   \n",
       "2                 0.05999  ...          25.53           152.50      1709.0   \n",
       "3                 0.09744  ...          26.50            98.87       567.7   \n",
       "4                 0.05883  ...          16.67           152.20      1575.0   \n",
       "\n",
       "   worst smoothness  worst compactness  worst concavity  worst concave points  \\\n",
       "0            0.1622             0.6656           0.7119                0.2654   \n",
       "1            0.1238             0.1866           0.2416                0.1860   \n",
       "2            0.1444             0.4245           0.4504                0.2430   \n",
       "3            0.2098             0.8663           0.6869                0.2575   \n",
       "4            0.1374             0.2050           0.4000                0.1625   \n",
       "\n",
       "   worst symmetry  worst fractal dimension  test  \n",
       "0          0.4601                  0.11890   0.0  \n",
       "1          0.2750                  0.08902   0.0  \n",
       "2          0.3613                  0.08758   0.0  \n",
       "3          0.6638                  0.17300   0.0  \n",
       "4          0.2364                  0.07678   0.0  \n",
       "\n",
       "[5 rows x 31 columns]"
      ]
     },
     "execution_count": 7,
     "metadata": {},
     "output_type": "execute_result"
    }
   ],
   "source": [
    "features_labels = np.append(features,'test')\n",
    "breast_dataset.columns = features_labels\n",
    "breast_dataset.head()"
   ]
  },
  {
   "cell_type": "code",
   "execution_count": 8,
   "id": "48f49050",
   "metadata": {},
   "outputs": [],
   "source": [
    "#spliting the outcome of data\n",
    "X =  breast_dataset.iloc[:, [0,1,2,3,4,5,6,7,8,9,10,11,12,13,14,15,16,17,18,19,20,21,22,23,24,25,26,27,29,29]].values\n",
    "Y = breast_dataset.iloc[:, 30].values\n",
    "\n",
    "#Split the data set into test and verifcaiton 80.20\n",
    "X_train, X_test, Y_train, Y_test = train_test_split(X, Y, train_size=0.8, test_size=.2, random_state = 4) "
   ]
  },
  {
   "cell_type": "code",
   "execution_count": 9,
   "id": "7788b0da",
   "metadata": {},
   "outputs": [
    {
     "data": {
      "text/plain": [
       "GaussianNB()"
      ]
     },
     "execution_count": 9,
     "metadata": {},
     "output_type": "execute_result"
    }
   ],
   "source": [
    "classifier = GaussianNB() \n",
    "classifier.fit(X_train, Y_train) "
   ]
  },
  {
   "cell_type": "code",
   "execution_count": 10,
   "id": "cdf37690",
   "metadata": {},
   "outputs": [
    {
     "name": "stdout",
     "output_type": "stream",
     "text": [
      "Accuracy for Problem1: 0.9122807017543859\n",
      "Precision for Problem1: 0.972972972972973\n",
      "Recall for Problem1: 0.9\n"
     ]
    }
   ],
   "source": [
    "#Test the Model\n",
    "Y_pred = classifier.predict(X_test)\n",
    "\n",
    "#Getting the metrics for Gaussian Naive-Bayes\n",
    "print(\"Accuracy for Problem1:\",metrics.accuracy_score(Y_test, Y_pred)) \n",
    "print(\"Precision for Problem1:\",metrics.precision_score(Y_test, Y_pred)) \n",
    "print(\"Recall for Problem1:\",metrics.recall_score(Y_test, Y_pred)) "
   ]
  },
  {
   "cell_type": "code",
   "execution_count": 11,
   "id": "dcbddf9e",
   "metadata": {},
   "outputs": [
    {
     "data": {
      "text/plain": [
       "Text(0.5, 257.44, 'Predicted label')"
      ]
     },
     "execution_count": 11,
     "metadata": {},
     "output_type": "execute_result"
    },
    {
     "data": {
      "image/png": "[encoded data removed]",
      "text/plain": [
       "<Figure size 432x288 with 2 Axes>"
      ]
     },
     "metadata": {
      "needs_background": "light"
     },
     "output_type": "display_data"
    }
   ],
   "source": [
    "#Plotting the heat map for Logistic Regression \n",
    "class_names=['Benign','Malignant'] # name  of classes \n",
    "fig, ax = plt.subplots() \n",
    "tick_marks = np.arange(len(class_names)) \n",
    "plt.xticks(tick_marks, class_names) \n",
    "plt.yticks(tick_marks, class_names) \n",
    "\n",
    "# create heatmap \n",
    "sns.heatmap(pd.DataFrame(confusion_matrix(Y_test,Y_pred)), annot=True, cmap=\"YlGnBu\" ,fmt='g') \n",
    "ax.xaxis.set_label_position(\"top\") \n",
    "plt.tight_layout() \n",
    "plt.title('Fig-1: Confusion matrix', y=1.1) \n",
    "plt.ylabel('Actual label') \n",
    "plt.xlabel('Predicted label') "
   ]
  },
  {
   "cell_type": "code",
   "execution_count": 12,
   "id": "38853e3a",
   "metadata": {},
   "outputs": [],
   "source": [
    "# Problem 2\n",
    "# Use the cancer dataset to build a logistic regression model to classify the type of cancer (Malignant vs. benign). \n",
    "# Use the PCA feature extraction for your training. Perform N number of independent training (N=1, …, K). \n",
    "# Identify the optimum number of K, principal components that achieve the highest classification accuracy. \n",
    "# Plot your classification accuracy, precision, and recall over a different number of Ks. \n",
    "# Explain and elaborate on your results."
   ]
  },
  {
   "cell_type": "code",
   "execution_count": 13,
   "id": "ddfd607d",
   "metadata": {},
   "outputs": [],
   "source": [
    "# First, import the PCA function\n",
    "# sperate the  features, target and scaler\n",
    "\n",
    "x = breast_dataset.loc[:, features].values \n",
    "y = breast_dataset.loc[:,['test']].values \n",
    "x = StandardScaler().fit_transform(x) \n",
    "\n",
    "\n",
    "accuracyGraph = []\n",
    "precisionGraph = []\n",
    "recallGraph = []"
   ]
  },
  {
   "cell_type": "code",
   "execution_count": 14,
   "id": "c9281200",
   "metadata": {},
   "outputs": [],
   "source": [
    "# to go through all K values, a k loop is needed for all the inputes up to 30\n",
    "avg = 0\n",
    "for k in range(1, 31):\n",
    "    pca = PCA(n_components=k)\n",
    "    principalComponents = pca.fit_transform(x)\n",
    "    principalDf = pd.DataFrame(data = principalComponents, columns = [*range(1,k+1)]) \n",
    "    finalDf = pd.concat([principalDf, breast_dataset[['test']]], axis = 1)\n",
    "    \n",
    "    outcome = finalDf.pop(\"test\")\n",
    "    \n",
    "    X2 = finalDf.values\n",
    "    Y2 = outcome.values\n",
    "\n",
    "    X_train, X_test, Y_train, Y_test = train_test_split(X2, Y2, train_size=0.8, test_size = 0.2, random_state = 4) \n",
    "    #Same rand value to see the most optimal K value\n",
    "    \n",
    "    classifier = LogisticRegression(random_state=0)\n",
    "    classifier.fit(X_train, Y_train)\n",
    "    \n",
    "    # Creating a prediction \n",
    "    Y_pred = classifier.predict(X_test)\n",
    "\n",
    "    # Using confusion matrix to obtain accuracy and other statistics\n",
    "    cnf_matrix = confusion_matrix(Y_test, Y_pred) \n",
    "    from sklearn import metrics\n",
    "    \n",
    "    # Variables to hold the Accuracy, Precision, and Recall\n",
    "    accuracy = metrics.accuracy_score(Y_test, Y_pred)\n",
    "    precision = metrics.precision_score(Y_test, Y_pred)\n",
    "    recall = metrics.recall_score(Y_test, Y_pred)\n",
    "    \n",
    "    # Saving the values to the appropriate list\n",
    "    accuracyGraph.append(accuracy)\n",
    "    precisionGraph.append(precision)\n",
    "    recallGraph.append(recall)\n",
    "    \n",
    "    # Averaging the three values for avg\n",
    "    New_Avg = (accuracy + precision + recall)/3\n",
    "    \n",
    "    #compare the old average from the first classifcation to the new one from 1 to 30\n",
    "    #But use the most accurage model\n",
    "    if avg < New_Avg: \n",
    "        avg = New_Avg\n",
    "        index = k"
   ]
  },
  {
   "cell_type": "code",
   "execution_count": 15,
   "id": "cae80fa3",
   "metadata": {},
   "outputs": [],
   "source": [
    "# PCA function for the most optimal K value\n",
    "# The most optimal K value was 8 for this test \n",
    "\n",
    "pca = PCA(n_components = index)\n",
    "principalComponents = pca.fit_transform(x)\n",
    "principalDf = pd.DataFrame(data = principalComponents, columns = [*range(1,index+1)]) \n",
    "finalDf = pd.concat([principalDf, breast_dataset[['test']]], axis = 1)\n",
    "\n",
    "X2 = finalDf.values\n",
    "Y2 = outcome.values\n",
    "\n",
    "# Standard training and test set 80/20 ratio\n",
    "X_train, X_test, Y_train, Y_test = train_test_split(X2, Y2, train_size=0.8, test_size = 0.2, random_state = 4)\n",
    "\n",
    "classifier.fit(X_train, Y_train)\n",
    "    \n",
    "#Create a prediction \n",
    "Y_pred = classifier.predict(X_test)"
   ]
  },
  {
   "cell_type": "code",
   "execution_count": 16,
   "id": "5cadf0bf",
   "metadata": {},
   "outputs": [
    {
     "name": "stdout",
     "output_type": "stream",
     "text": [
      "Accuracy: 1.0\n",
      "Precision: 1.0\n",
      "Recall: 1.0\n",
      "Final K value:  8\n"
     ]
    }
   ],
   "source": [
    "# Using confusion matrix to obtain accuracy and other statistics \n",
    "cnf_matrix = confusion_matrix(Y_test, Y_pred)  \n",
    "\n",
    "print(\"Accuracy:\",metrics.accuracy_score(Y_test, Y_pred)) \n",
    "print(\"Precision:\",metrics.precision_score(Y_test, Y_pred)) \n",
    "print(\"Recall:\",metrics.recall_score(Y_test, Y_pred))\n",
    "print(\"Final K value: \", index)"
   ]
  },
  {
   "cell_type": "code",
   "execution_count": 17,
   "id": "65305e8a",
   "metadata": {},
   "outputs": [
    {
     "data": {
      "image/png": "[encoded data removed]",
      "text/plain": [
       "<Figure size 432x288 with 1 Axes>"
      ]
     },
     "metadata": {
      "needs_background": "light"
     },
     "output_type": "display_data"
    },
    {
     "data": {
      "image/png": "[encoded data removed]",
      "text/plain": [
       "<Figure size 432x288 with 1 Axes>"
      ]
     },
     "metadata": {
      "needs_background": "light"
     },
     "output_type": "display_data"
    },
    {
     "data": {
      "image/png": "[encoded data removed]",
      "text/plain": [
       "<Figure size 432x288 with 1 Axes>"
      ]
     },
     "metadata": {
      "needs_background": "light"
     },
     "output_type": "display_data"
    }
   ],
   "source": [
    "# Graph Accuracy\n",
    "plt.plot(accuracyGraph)\n",
    "plt.xlabel('# of Inputs')\n",
    "plt.ylabel('Accuracy')\n",
    "plt.title('Fig-2: Accuracy vs Inputs')\n",
    "plt.show()\n",
    "\n",
    "# Graph Precision\n",
    "plt.plot(precisionGraph)\n",
    "plt.xlabel('# of Inputs')\n",
    "plt.ylabel('Precision')\n",
    "plt.title('Fig-3: Precision vs Inputs')\n",
    "plt.show()\n",
    "\n",
    "# Graph Precision\n",
    "plt.plot(recallGraph)\n",
    "plt.xlabel('# of Inputs')\n",
    "plt.ylabel('Recall')\n",
    "plt.title('Fig-4: Recall vs Inputs')\n",
    "plt.show()"
   ]
  },
  {
   "cell_type": "code",
   "execution_count": 18,
   "id": "d7e73ed5",
   "metadata": {},
   "outputs": [],
   "source": [
    "# Problem 3\n",
    "# Can you repeat problem 2? This time, replace the logistic regression with Bayes classifier. \n",
    "# Report your results (classification accuracy, precision, and recall). \n",
    "# Compare your results against problem 2."
   ]
  },
  {
   "cell_type": "code",
   "execution_count": 19,
   "id": "379cbdcd",
   "metadata": {},
   "outputs": [],
   "source": [
    "accuracyGraph = []\n",
    "precisionGraph = []\n",
    "recallGraph = []"
   ]
  },
  {
   "cell_type": "code",
   "execution_count": 20,
   "id": "59576f37",
   "metadata": {},
   "outputs": [],
   "source": [
    "avg = 0\n",
    "for k in range(1, 31):\n",
    "    pca = PCA(n_components=k)\n",
    "    principalComponents = pca.fit_transform(x)\n",
    "    principalDf = pd.DataFrame(data = principalComponents, columns = [*range(1,k+1)]) \n",
    "    finalDf = pd.concat([principalDf, breast_dataset[['test']]], axis = 1)\n",
    "    \n",
    "    outcome = finalDf.pop(\"test\")\n",
    "    \n",
    "    X2 = finalDf.values\n",
    "    Y2 = outcome.values\n",
    "\n",
    "    X_train, X_test, Y_train, Y_test = train_test_split(X2, Y2, train_size=0.8, test_size = 0.2, random_state = 4) \n",
    "    \n",
    "    # Using Naive Bayes Classifier for Problem 2 above\n",
    "    classifier = GaussianNB() \n",
    "    classifier.fit(X_train, Y_train)\n",
    "    \n",
    "    # Creating a prediction \n",
    "    Y_pred = classifier.predict(X_test)\n",
    "\n",
    "    # Using confusion matrix to obtain accuracy and other statistics\n",
    "    cnf_matrix = confusion_matrix(Y_test, Y_pred) \n",
    "    \n",
    "    # Variables to hold the Accuracy, Precision, and Recall\n",
    "    accuracy = metrics.accuracy_score(Y_test, Y_pred)\n",
    "    precision = metrics.precision_score(Y_test, Y_pred)\n",
    "    recall = metrics.recall_score(Y_test, Y_pred)\n",
    "    \n",
    "    # Saving the values to the appropriate list\n",
    "    accuracyGraph.append(accuracy)\n",
    "    precisionGraph.append(precision)\n",
    "    recallGraph.append(recall)\n",
    "    \n",
    "    # Averaging the three values for avg\n",
    "    New_Avg = (accuracy + precision + recall)/3\n",
    "    \n",
    "    #compare the old average from the first classifcation to the new one from 1 to 30\n",
    "    #But use the most accurage model\n",
    "    if avg < New_Avg: \n",
    "        avg = New_Avg\n",
    "        index = k"
   ]
  },
  {
   "cell_type": "code",
   "execution_count": 21,
   "id": "9add69b0",
   "metadata": {},
   "outputs": [],
   "source": [
    "# PCA function for the most optimal K value\n",
    "# The most optimal K value was 30 for this test \n",
    "\n",
    "pca = PCA(n_components = index)\n",
    "principalComponents = pca.fit_transform(x)\n",
    "principalDf = pd.DataFrame(data = principalComponents, columns = [*range(1,index+1)]) \n",
    "finalDf = pd.concat([principalDf, breast_dataset[['test']]], axis = 1)\n",
    "\n",
    "X2 = finalDf.values\n",
    "Y2 = outcome.values\n",
    "\n",
    "# Standard training and test set 80/20 ratio\n",
    "X_train, X_test, Y_train, Y_test = train_test_split(X2, Y2, train_size=0.8, test_size = 0.2, random_state = 4)\n",
    "\n",
    "classifier.fit(X_train, Y_train)\n",
    "    \n",
    "#Create a prediction \n",
    "Y_pred = classifier.predict(X_test)"
   ]
  },
  {
   "cell_type": "code",
   "execution_count": 22,
   "id": "e5323135",
   "metadata": {},
   "outputs": [
    {
     "name": "stdout",
     "output_type": "stream",
     "text": [
      "Accuracy: 1.0\n",
      "Precision: 1.0\n",
      "Recall: 1.0\n",
      "Final K value:  1\n"
     ]
    }
   ],
   "source": [
    "# Using confusion matrix to obtain accuracy and other statistics \n",
    "cnf_matrix = confusion_matrix(Y_test, Y_pred) \n",
    "\n",
    "print(\"Accuracy:\",metrics.accuracy_score(Y_test, Y_pred)) \n",
    "print(\"Precision:\",metrics.precision_score(Y_test, Y_pred)) \n",
    "print(\"Recall:\",metrics.recall_score(Y_test, Y_pred))\n",
    "print(\"Final K value: \", index)"
   ]
  },
  {
   "cell_type": "code",
   "execution_count": 23,
   "id": "df06077e",
   "metadata": {},
   "outputs": [
    {
     "data": {
      "image/png": "[encoded data removed]",
      "text/plain": [
       "<Figure size 432x288 with 1 Axes>"
      ]
     },
     "metadata": {
      "needs_background": "light"
     },
     "output_type": "display_data"
    },
    {
     "data": {
      "image/png": "[encoded data removed]",
      "text/plain": [
       "<Figure size 432x288 with 1 Axes>"
      ]
     },
     "metadata": {
      "needs_background": "light"
     },
     "output_type": "display_data"
    },
    {
     "data": {
      "image/png": "[encoded data removed]",
      "text/plain": [
       "<Figure size 432x288 with 1 Axes>"
      ]
     },
     "metadata": {
      "needs_background": "light"
     },
     "output_type": "display_data"
    }
   ],
   "source": [
    "# Graph Accuracy\n",
    "plt.plot(accuracyGraph)\n",
    "plt.xlabel('# of Inputs')\n",
    "plt.ylabel('Accuracy')\n",
    "plt.title('Fig-5: Accuracy vs Inputs')\n",
    "plt.show()\n",
    "\n",
    "# Graph Precision\n",
    "plt.plot(precisionGraph)\n",
    "plt.xlabel('# of Inputs')\n",
    "plt.ylabel('Precision')\n",
    "plt.title('Fig-6: Precision vs Inputs')\n",
    "plt.show()\n",
    "\n",
    "# Graph Precision\n",
    "plt.plot(recallGraph)\n",
    "plt.xlabel('# of Inputs')\n",
    "plt.ylabel('Recall')\n",
    "plt.title('Fig-7: Recall vs Inputs')\n",
    "plt.show()"
   ]
  }
 ],
 "metadata": {
  "kernelspec": {
   "display_name": "Python 3 (ipykernel)",
   "language": "python",
   "name": "python3"
  },
  "language_info": {
   "codemirror_mode": {
    "name": "ipython",
    "version": 3
   },
   "file_extension": ".py",
   "mimetype": "text/x-python",
   "name": "python",
   "nbconvert_exporter": "python",
   "pygments_lexer": "ipython3",
   "version": "3.9.7"
  }
 },
 "nbformat": 4,
 "nbformat_minor": 5
}
