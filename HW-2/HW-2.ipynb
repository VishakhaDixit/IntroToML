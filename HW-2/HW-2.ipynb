{
 "cells": [
  {
   "cell_type": "code",
   "execution_count": 1,
   "id": "e1d08ec2",
   "metadata": {},
   "outputs": [],
   "source": [
    "# Vishakha Dixit\n",
    "# 801265288\n",
    "# HW-2\n",
    "\n",
    "import numpy as np\n",
    "import pandas as pd\n",
    "import matplotlib.pyplot as plt\n",
    "import warnings\n",
    "import random\n",
    "warnings.filterwarnings('ignore')\n",
    "\n",
    "from sklearn.model_selection import train_test_split \n",
    "from sklearn.preprocessing import StandardScaler\n",
    "from sklearn.linear_model import LogisticRegression\n",
    "from sklearn.datasets import load_breast_cancer \n",
    "from sklearn.metrics import confusion_matrix\n",
    "from sklearn import metrics\n",
    "import seaborn as sns\n",
    "from sklearn.model_selection import cross_validate\n",
    "from sklearn.model_selection import cross_val_score\n",
    "from sklearn.model_selection import KFold"
   ]
  },
  {
   "cell_type": "code",
   "execution_count": 2,
   "id": "8d45c02a",
   "metadata": {},
   "outputs": [],
   "source": [
    "dataset = pd.read_csv('diabetes.csv')\n",
    "\n",
    "X = dataset.iloc[:,0:8].values\n",
    "Y = dataset.iloc[:,8].values\n",
    "\n",
    "X_train, X_test, Y_train, Y_test = train_test_split(X, Y, test_size = 0.2, random_state = 42)"
   ]
  },
  {
   "cell_type": "code",
   "execution_count": 3,
   "id": "2bb469d3",
   "metadata": {},
   "outputs": [],
   "source": [
    "# Standardization\n",
    "sc_X = StandardScaler()\n",
    "X_train = sc_X.fit_transform(X_train)\n",
    "X_test = sc_X.transform(X_test)"
   ]
  },
  {
   "cell_type": "code",
   "execution_count": 4,
   "id": "97b28692",
   "metadata": {},
   "outputs": [],
   "source": [
    "# PROBLEM 1"
   ]
  },
  {
   "cell_type": "code",
   "execution_count": 5,
   "id": "b3f6c6b6",
   "metadata": {},
   "outputs": [
    {
     "data": {
      "text/plain": [
       "LogisticRegression(random_state=0)"
      ]
     },
     "execution_count": 5,
     "metadata": {},
     "output_type": "execute_result"
    }
   ],
   "source": [
    "classifier = LogisticRegression(random_state=0)\n",
    "classifier.fit(X_train, Y_train)"
   ]
  },
  {
   "cell_type": "code",
   "execution_count": 6,
   "id": "c309560b",
   "metadata": {},
   "outputs": [
    {
     "data": {
      "text/plain": [
       "array([0, 0, 0, 0, 0, 0, 0, 1, 1, 1], dtype=int64)"
      ]
     },
     "execution_count": 6,
     "metadata": {},
     "output_type": "execute_result"
    }
   ],
   "source": [
    "Y_pred = classifier.predict(X_test)\n",
    "Y_pred[0:10]"
   ]
  },
  {
   "cell_type": "code",
   "execution_count": 7,
   "id": "b280bba1",
   "metadata": {},
   "outputs": [
    {
     "data": {
      "text/plain": [
       "array([[79, 20],\n",
       "       [18, 37]], dtype=int64)"
      ]
     },
     "execution_count": 7,
     "metadata": {},
     "output_type": "execute_result"
    }
   ],
   "source": [
    "cnf_matrix = confusion_matrix(Y_test, Y_pred)\n",
    "cnf_matrix"
   ]
  },
  {
   "cell_type": "code",
   "execution_count": 8,
   "id": "f0e86359",
   "metadata": {},
   "outputs": [
    {
     "name": "stdout",
     "output_type": "stream",
     "text": [
      "AccuracyP1:  0.7532467532467533\n",
      "PrecisionP1:  0.6491228070175439\n",
      "RecallP1:  0.6727272727272727\n"
     ]
    }
   ],
   "source": [
    "AccuracyP1 = metrics.accuracy_score(Y_test, Y_pred)\n",
    "PrecisionP1 = metrics.precision_score(Y_test, Y_pred)\n",
    "RecallP1 = metrics.recall_score(Y_test, Y_pred)\n",
    "\n",
    "#Getting the metrics for Logistic Regression\n",
    "print(\"AccuracyP1: \", metrics.accuracy_score(Y_test, Y_pred)) \n",
    "print(\"PrecisionP1: \", metrics.precision_score(Y_test, Y_pred)) \n",
    "print(\"RecallP1: \", metrics.recall_score(Y_test, Y_pred))"
   ]
  },
  {
   "cell_type": "code",
   "execution_count": 9,
   "id": "8e6d3656",
   "metadata": {},
   "outputs": [
    {
     "data": {
      "text/plain": [
       "Text(0.5, 257.44, 'Predicted label')"
      ]
     },
     "execution_count": 9,
     "metadata": {},
     "output_type": "execute_result"
    },
    {
     "data": {
      "image/png": "[encoded data removed]",
      "text/plain": [
       "<Figure size 432x288 with 2 Axes>"
      ]
     },
     "metadata": {
      "needs_background": "light"
     },
     "output_type": "display_data"
    }
   ],
   "source": [
    "#Plotting the heat map for Logistic Regression \n",
    "class_names=[0,1] # name  of classes \n",
    "fig, ax = plt.subplots() \n",
    "tick_marks = np.arange(len(class_names)) \n",
    "plt.xticks(tick_marks, class_names) \n",
    "plt.yticks(tick_marks, class_names) \n",
    "\n",
    "# create heatmap \n",
    "sns.heatmap(pd.DataFrame(cnf_matrix), annot=True, cmap=\"YlGnBu\" ,fmt='g') \n",
    "ax.xaxis.set_label_position(\"top\") \n",
    "plt.tight_layout() \n",
    "plt.title('Confusion matrix Logistic Regression', y=1.1) \n",
    "plt.ylabel('Actual label') \n",
    "plt.xlabel('Predicted label') "
   ]
  },
  {
   "cell_type": "code",
   "execution_count": 10,
   "id": "4568563b",
   "metadata": {},
   "outputs": [],
   "source": [
    "# PROBLEM 2"
   ]
  },
  {
   "cell_type": "code",
   "execution_count": 11,
   "id": "e394abce",
   "metadata": {},
   "outputs": [],
   "source": [
    "classifier2 = LogisticRegression(class_weight = 'balanced')\n",
    "validationMetrics = {'accuracy': \"accuracy\", \"precision\": \"precision\", \"recall\": \"recall\"}"
   ]
  },
  {
   "cell_type": "code",
   "execution_count": 12,
   "id": "b06351c8",
   "metadata": {},
   "outputs": [
    {
     "data": {
      "text/plain": [
       "{'fit_time': array([0.01499915, 0.0150764 , 0.01900959, 0.01591873, 0.01407671]),\n",
       " 'score_time': array([0.00099993, 0.00199533, 0.00199986, 0.00200009, 0.00200415]),\n",
       " 'test_accuracy': array([0.74025974, 0.70779221, 0.74675325, 0.83660131, 0.75816993]),\n",
       " 'test_precision': array([0.61290323, 0.56521739, 0.62295082, 0.73333333, 0.64285714]),\n",
       " 'test_recall': array([0.7037037 , 0.72222222, 0.7037037 , 0.83018868, 0.67924528])}"
      ]
     },
     "execution_count": 12,
     "metadata": {},
     "output_type": "execute_result"
    }
   ],
   "source": [
    "# K=5\n",
    "\n",
    "cv_results = cross_validate(classifier2, X, Y, cv = 5, groups = None, scoring = validationMetrics)\n",
    "cv_results"
   ]
  },
  {
   "cell_type": "code",
   "execution_count": 13,
   "id": "ab518836",
   "metadata": {},
   "outputs": [
    {
     "name": "stdout",
     "output_type": "stream",
     "text": [
      "K-fold with k=5\n",
      "\n",
      "Accuracy for Problem 1 =  0.7532467532467533 vs \n",
      "Accuracy for Problem 2 =  0.757915287327052\n",
      "\n",
      "Precision for Problem 1 =  0.6491228070175439 vs \n",
      "Precision for Problem 2 =  0.6354523825946814\n",
      "\n",
      "Recall for Problem 1 =  0.6727272727272727 vs \n",
      "Recall for Problem 2 =  0.727812718378756\n"
     ]
    }
   ],
   "source": [
    "#Scores for k-fold with k=5\n",
    "print(\"K-fold with k=5\")\n",
    "print()\n",
    "\n",
    "#Comparing results with Problem 1\n",
    "print(\"Accuracy for Problem 1 = \", AccuracyP1, \"vs \\nAccuracy for Problem 2 = \", np.mean(cv_results['test_accuracy']))\n",
    "print()\n",
    "print(\"Precision for Problem 1 = \", PrecisionP1, \"vs \\nPrecision for Problem 2 = \", np.mean(cv_results['test_precision']))\n",
    "print()\n",
    "print(\"Recall for Problem 1 = \", RecallP1, \"vs \\nRecall for Problem 2 = \", np.mean(cv_results['test_recall']))"
   ]
  },
  {
   "cell_type": "code",
   "execution_count": 14,
   "id": "8280e739",
   "metadata": {},
   "outputs": [
    {
     "data": {
      "text/plain": [
       "{'fit_time': array([0.01702094, 0.01399946, 0.01599884, 0.01900411, 0.01399875,\n",
       "        0.01408553, 0.0179286 , 0.01499987, 0.01800132, 0.01699829]),\n",
       " 'score_time': array([0.0019803 , 0.00100017, 0.00100017, 0.00099683, 0.00100136,\n",
       "        0.00098467, 0.00199986, 0.00099993, 0.00099969, 0.00099993]),\n",
       " 'test_accuracy': array([0.67532468, 0.77922078, 0.74025974, 0.67532468, 0.75324675,\n",
       "        0.74025974, 0.80519481, 0.84415584, 0.77631579, 0.76315789]),\n",
       " 'test_precision': array([0.52777778, 0.69230769, 0.61290323, 0.52777778, 0.63333333,\n",
       "        0.60606061, 0.71428571, 0.74193548, 0.63636364, 0.65384615]),\n",
       " 'test_recall': array([0.7037037 , 0.66666667, 0.7037037 , 0.7037037 , 0.7037037 ,\n",
       "        0.74074074, 0.74074074, 0.85185185, 0.80769231, 0.65384615])}"
      ]
     },
     "execution_count": 14,
     "metadata": {},
     "output_type": "execute_result"
    }
   ],
   "source": [
    "# K=10\n",
    "\n",
    "cv_results = cross_validate(classifier2, X, Y, cv = 10, groups = None, scoring = validationMetrics)\n",
    "cv_results"
   ]
  },
  {
   "cell_type": "code",
   "execution_count": 15,
   "id": "035f5604",
   "metadata": {},
   "outputs": [
    {
     "name": "stdout",
     "output_type": "stream",
     "text": [
      "K-fold with k=10\n",
      "\n",
      "Accuracy for Problem 1 =  0.7532467532467533 vs \n",
      "Accuracy for Problem 2 =  0.7552460697197539\n",
      "\n",
      "Precision for Problem 1 =  0.6491228070175439 vs \n",
      "Precision for Problem 2 =  0.6346591401430112\n",
      "\n",
      "Recall for Problem 1 =  0.6727272727272727 vs \n",
      "Recall for Problem 2 =  0.7276353276353277\n"
     ]
    }
   ],
   "source": [
    "#Scores for k-fold with k=10\n",
    "print(\"K-fold with k=10\")\n",
    "print()\n",
    "\n",
    "#Comparing results with Problem 1\n",
    "print(\"Accuracy for Problem 1 = \", AccuracyP1, \"vs \\nAccuracy for Problem 2 = \", np.mean(cv_results['test_accuracy']))\n",
    "print()\n",
    "print(\"Precision for Problem 1 = \", PrecisionP1, \"vs \\nPrecision for Problem 2 = \", np.mean(cv_results['test_precision']))\n",
    "print()\n",
    "print(\"Recall for Problem 1 = \", RecallP1, \"vs \\nRecall for Problem 2 = \", np.mean(cv_results['test_recall']))"
   ]
  },
  {
   "cell_type": "code",
   "execution_count": 16,
   "id": "871bea6b",
   "metadata": {},
   "outputs": [],
   "source": [
    "# PROBLEM 3 - PART 1"
   ]
  },
  {
   "cell_type": "code",
   "execution_count": 17,
   "id": "c06661f7",
   "metadata": {},
   "outputs": [],
   "source": [
    "breast_cancer = load_breast_cancer()\n",
    "\n",
    "input_data = pd.DataFrame(breast_cancer.data)"
   ]
  },
  {
   "cell_type": "code",
   "execution_count": 18,
   "id": "3e0a57f9",
   "metadata": {},
   "outputs": [
    {
     "data": {
      "text/plain": [
       "(569,)"
      ]
     },
     "execution_count": 18,
     "metadata": {},
     "output_type": "execute_result"
    }
   ],
   "source": [
    "labels=breast_cancer.target\n",
    "labels.shape"
   ]
  },
  {
   "cell_type": "code",
   "execution_count": 19,
   "id": "6e602cbf",
   "metadata": {},
   "outputs": [],
   "source": [
    "#reshape data into usefull info\n",
    "labels = np.reshape(labels,(569,1))\n",
    "#Add label to data set\n",
    "final_breast_data = np.concatenate([input_data,labels],axis=1)"
   ]
  },
  {
   "cell_type": "code",
   "execution_count": 20,
   "id": "3c53ec42",
   "metadata": {},
   "outputs": [
    {
     "data": {
      "text/plain": [
       "array(['mean radius', 'mean texture', 'mean perimeter', 'mean area',\n",
       "       'mean smoothness', 'mean compactness', 'mean concavity',\n",
       "       'mean concave points', 'mean symmetry', 'mean fractal dimension',\n",
       "       'radius error', 'texture error', 'perimeter error', 'area error',\n",
       "       'smoothness error', 'compactness error', 'concavity error',\n",
       "       'concave points error', 'symmetry error',\n",
       "       'fractal dimension error', 'worst radius', 'worst texture',\n",
       "       'worst perimeter', 'worst area', 'worst smoothness',\n",
       "       'worst compactness', 'worst concavity', 'worst concave points',\n",
       "       'worst symmetry', 'worst fractal dimension'], dtype='<U23')"
      ]
     },
     "execution_count": 20,
     "metadata": {},
     "output_type": "execute_result"
    }
   ],
   "source": [
    "#data set to create proper tabel\n",
    "breast_dataset = pd.DataFrame(final_breast_data)\n",
    "features = breast_cancer.feature_names\n",
    "features"
   ]
  },
  {
   "cell_type": "code",
   "execution_count": 21,
   "id": "b36e3889",
   "metadata": {},
   "outputs": [
    {
     "data": {
      "text/html": [
       "<div>\n",
       "<style scoped>\n",
       "    .dataframe tbody tr th:only-of-type {\n",
       "        vertical-align: middle;\n",
       "    }\n",
       "\n",
       "    .dataframe tbody tr th {\n",
       "        vertical-align: top;\n",
       "    }\n",
       "\n",
       "    .dataframe thead th {\n",
       "        text-align: right;\n",
       "    }\n",
       "</style>\n",
       "<table border=\"1\" class=\"dataframe\">\n",
       "  <thead>\n",
       "    <tr style=\"text-align: right;\">\n",
       "      <th></th>\n",
       "      <th>mean radius</th>\n",
       "      <th>mean texture</th>\n",
       "      <th>mean perimeter</th>\n",
       "      <th>mean area</th>\n",
       "      <th>mean smoothness</th>\n",
       "      <th>mean compactness</th>\n",
       "      <th>mean concavity</th>\n",
       "      <th>mean concave points</th>\n",
       "      <th>mean symmetry</th>\n",
       "      <th>mean fractal dimension</th>\n",
       "      <th>...</th>\n",
       "      <th>worst texture</th>\n",
       "      <th>worst perimeter</th>\n",
       "      <th>worst area</th>\n",
       "      <th>worst smoothness</th>\n",
       "      <th>worst compactness</th>\n",
       "      <th>worst concavity</th>\n",
       "      <th>worst concave points</th>\n",
       "      <th>worst symmetry</th>\n",
       "      <th>worst fractal dimension</th>\n",
       "      <th>test</th>\n",
       "    </tr>\n",
       "  </thead>\n",
       "  <tbody>\n",
       "    <tr>\n",
       "      <th>0</th>\n",
       "      <td>17.99</td>\n",
       "      <td>10.38</td>\n",
       "      <td>122.80</td>\n",
       "      <td>1001.0</td>\n",
       "      <td>0.11840</td>\n",
       "      <td>0.27760</td>\n",
       "      <td>0.3001</td>\n",
       "      <td>0.14710</td>\n",
       "      <td>0.2419</td>\n",
       "      <td>0.07871</td>\n",
       "      <td>...</td>\n",
       "      <td>17.33</td>\n",
       "      <td>184.60</td>\n",
       "      <td>2019.0</td>\n",
       "      <td>0.1622</td>\n",
       "      <td>0.6656</td>\n",
       "      <td>0.7119</td>\n",
       "      <td>0.2654</td>\n",
       "      <td>0.4601</td>\n",
       "      <td>0.11890</td>\n",
       "      <td>0.0</td>\n",
       "    </tr>\n",
       "    <tr>\n",
       "      <th>1</th>\n",
       "      <td>20.57</td>\n",
       "      <td>17.77</td>\n",
       "      <td>132.90</td>\n",
       "      <td>1326.0</td>\n",
       "      <td>0.08474</td>\n",
       "      <td>0.07864</td>\n",
       "      <td>0.0869</td>\n",
       "      <td>0.07017</td>\n",
       "      <td>0.1812</td>\n",
       "      <td>0.05667</td>\n",
       "      <td>...</td>\n",
       "      <td>23.41</td>\n",
       "      <td>158.80</td>\n",
       "      <td>1956.0</td>\n",
       "      <td>0.1238</td>\n",
       "      <td>0.1866</td>\n",
       "      <td>0.2416</td>\n",
       "      <td>0.1860</td>\n",
       "      <td>0.2750</td>\n",
       "      <td>0.08902</td>\n",
       "      <td>0.0</td>\n",
       "    </tr>\n",
       "    <tr>\n",
       "      <th>2</th>\n",
       "      <td>19.69</td>\n",
       "      <td>21.25</td>\n",
       "      <td>130.00</td>\n",
       "      <td>1203.0</td>\n",
       "      <td>0.10960</td>\n",
       "      <td>0.15990</td>\n",
       "      <td>0.1974</td>\n",
       "      <td>0.12790</td>\n",
       "      <td>0.2069</td>\n",
       "      <td>0.05999</td>\n",
       "      <td>...</td>\n",
       "      <td>25.53</td>\n",
       "      <td>152.50</td>\n",
       "      <td>1709.0</td>\n",
       "      <td>0.1444</td>\n",
       "      <td>0.4245</td>\n",
       "      <td>0.4504</td>\n",
       "      <td>0.2430</td>\n",
       "      <td>0.3613</td>\n",
       "      <td>0.08758</td>\n",
       "      <td>0.0</td>\n",
       "    </tr>\n",
       "    <tr>\n",
       "      <th>3</th>\n",
       "      <td>11.42</td>\n",
       "      <td>20.38</td>\n",
       "      <td>77.58</td>\n",
       "      <td>386.1</td>\n",
       "      <td>0.14250</td>\n",
       "      <td>0.28390</td>\n",
       "      <td>0.2414</td>\n",
       "      <td>0.10520</td>\n",
       "      <td>0.2597</td>\n",
       "      <td>0.09744</td>\n",
       "      <td>...</td>\n",
       "      <td>26.50</td>\n",
       "      <td>98.87</td>\n",
       "      <td>567.7</td>\n",
       "      <td>0.2098</td>\n",
       "      <td>0.8663</td>\n",
       "      <td>0.6869</td>\n",
       "      <td>0.2575</td>\n",
       "      <td>0.6638</td>\n",
       "      <td>0.17300</td>\n",
       "      <td>0.0</td>\n",
       "    </tr>\n",
       "    <tr>\n",
       "      <th>4</th>\n",
       "      <td>20.29</td>\n",
       "      <td>14.34</td>\n",
       "      <td>135.10</td>\n",
       "      <td>1297.0</td>\n",
       "      <td>0.10030</td>\n",
       "      <td>0.13280</td>\n",
       "      <td>0.1980</td>\n",
       "      <td>0.10430</td>\n",
       "      <td>0.1809</td>\n",
       "      <td>0.05883</td>\n",
       "      <td>...</td>\n",
       "      <td>16.67</td>\n",
       "      <td>152.20</td>\n",
       "      <td>1575.0</td>\n",
       "      <td>0.1374</td>\n",
       "      <td>0.2050</td>\n",
       "      <td>0.4000</td>\n",
       "      <td>0.1625</td>\n",
       "      <td>0.2364</td>\n",
       "      <td>0.07678</td>\n",
       "      <td>0.0</td>\n",
       "    </tr>\n",
       "  </tbody>\n",
       "</table>\n",
       "<p>5 rows × 31 columns</p>\n",
       "</div>"
      ],
      "text/plain": [
       "   mean radius  mean texture  mean perimeter  mean area  mean smoothness  \\\n",
       "0        17.99         10.38          122.80     1001.0          0.11840   \n",
       "1        20.57         17.77          132.90     1326.0          0.08474   \n",
       "2        19.69         21.25          130.00     1203.0          0.10960   \n",
       "3        11.42         20.38           77.58      386.1          0.14250   \n",
       "4        20.29         14.34          135.10     1297.0          0.10030   \n",
       "\n",
       "   mean compactness  mean concavity  mean concave points  mean symmetry  \\\n",
       "0           0.27760          0.3001              0.14710         0.2419   \n",
       "1           0.07864          0.0869              0.07017         0.1812   \n",
       "2           0.15990          0.1974              0.12790         0.2069   \n",
       "3           0.28390          0.2414              0.10520         0.2597   \n",
       "4           0.13280          0.1980              0.10430         0.1809   \n",
       "\n",
       "   mean fractal dimension  ...  worst texture  worst perimeter  worst area  \\\n",
       "0                 0.07871  ...          17.33           184.60      2019.0   \n",
       "1                 0.05667  ...          23.41           158.80      1956.0   \n",
       "2                 0.05999  ...          25.53           152.50      1709.0   \n",
       "3                 0.09744  ...          26.50            98.87       567.7   \n",
       "4                 0.05883  ...          16.67           152.20      1575.0   \n",
       "\n",
       "   worst smoothness  worst compactness  worst concavity  worst concave points  \\\n",
       "0            0.1622             0.6656           0.7119                0.2654   \n",
       "1            0.1238             0.1866           0.2416                0.1860   \n",
       "2            0.1444             0.4245           0.4504                0.2430   \n",
       "3            0.2098             0.8663           0.6869                0.2575   \n",
       "4            0.1374             0.2050           0.4000                0.1625   \n",
       "\n",
       "   worst symmetry  worst fractal dimension  test  \n",
       "0          0.4601                  0.11890   0.0  \n",
       "1          0.2750                  0.08902   0.0  \n",
       "2          0.3613                  0.08758   0.0  \n",
       "3          0.6638                  0.17300   0.0  \n",
       "4          0.2364                  0.07678   0.0  \n",
       "\n",
       "[5 rows x 31 columns]"
      ]
     },
     "execution_count": 21,
     "metadata": {},
     "output_type": "execute_result"
    }
   ],
   "source": [
    "features_labels = np.append(features,'test')\n",
    "breast_dataset.columns = features_labels\n",
    "breast_dataset.head()"
   ]
  },
  {
   "cell_type": "code",
   "execution_count": 22,
   "id": "ff200b4d",
   "metadata": {},
   "outputs": [],
   "source": [
    "#spliting the outcome of data\n",
    "X =  breast_dataset.iloc[:, [0,1,2,3,4,5,6,7,8,9,10,11,12,13,14,15,16,17,18,19,20,21,22,23,24,25,26,27,29]].values\n",
    "Y = breast_dataset.iloc[:, 30].values\n",
    "\n",
    "#Split the data set into test and verifcaiton 80-20\n",
    "X_train, X_test, Y_train, Y_test = train_test_split(X, Y, train_size=0.8, test_size=.2, random_state = 4) "
   ]
  },
  {
   "cell_type": "code",
   "execution_count": 23,
   "id": "c36b40c6",
   "metadata": {},
   "outputs": [],
   "source": [
    "# Standardization\n",
    "sc_X = StandardScaler()\n",
    "X_train = sc_X.fit_transform(X_train)\n",
    "X_test = sc_X.transform(X_test)"
   ]
  },
  {
   "cell_type": "code",
   "execution_count": 24,
   "id": "3e099c71",
   "metadata": {},
   "outputs": [
    {
     "data": {
      "text/plain": [
       "LogisticRegression(random_state=0)"
      ]
     },
     "execution_count": 24,
     "metadata": {},
     "output_type": "execute_result"
    }
   ],
   "source": [
    "classifier = LogisticRegression(random_state=0)\n",
    "classifier.fit(X_train, Y_train)"
   ]
  },
  {
   "cell_type": "code",
   "execution_count": 25,
   "id": "8829b908",
   "metadata": {},
   "outputs": [
    {
     "data": {
      "text/plain": [
       "array([1., 1., 0., 0., 0., 0., 1., 1., 0.])"
      ]
     },
     "execution_count": 25,
     "metadata": {},
     "output_type": "execute_result"
    }
   ],
   "source": [
    "Y_pred = classifier.predict(X_test)\n",
    "Y_pred[0:9]"
   ]
  },
  {
   "cell_type": "code",
   "execution_count": 26,
   "id": "2e185267",
   "metadata": {},
   "outputs": [
    {
     "data": {
      "text/plain": [
       "array([[34,  0],\n",
       "       [ 5, 75]], dtype=int64)"
      ]
     },
     "execution_count": 26,
     "metadata": {},
     "output_type": "execute_result"
    }
   ],
   "source": [
    "cnf_matrix = confusion_matrix(Y_test, Y_pred)\n",
    "cnf_matrix"
   ]
  },
  {
   "cell_type": "code",
   "execution_count": 27,
   "id": "7de2c10b",
   "metadata": {},
   "outputs": [
    {
     "name": "stdout",
     "output_type": "stream",
     "text": [
      "AccuracyP3: 0.956140350877193\n",
      "PrecisionP3: 1.0\n",
      "RecallP3: 0.9375\n"
     ]
    }
   ],
   "source": [
    "accuracyP3 = metrics.accuracy_score(Y_test, Y_pred)\n",
    "precisionP3 = metrics.precision_score(Y_test, Y_pred)\n",
    "recallP3 = metrics.recall_score(Y_test, Y_pred)\n",
    "    \n",
    "print(\"AccuracyP3:\", accuracyP3)\n",
    "print(\"PrecisionP3:\", precisionP3)\n",
    "print(\"RecallP3:\",recallP3)"
   ]
  },
  {
   "cell_type": "code",
   "execution_count": 28,
   "id": "b829d5ac",
   "metadata": {},
   "outputs": [
    {
     "data": {
      "text/plain": [
       "Text(0.5, 257.44, 'Predicted label')"
      ]
     },
     "execution_count": 28,
     "metadata": {},
     "output_type": "execute_result"
    },
    {
     "data": {
      "image/png": "[encoded data removed]",
      "text/plain": [
       "<Figure size 432x288 with 2 Axes>"
      ]
     },
     "metadata": {
      "needs_background": "light"
     },
     "output_type": "display_data"
    }
   ],
   "source": [
    "class_names=[0,1] # name of classes\n",
    "fig, ax = plt.subplots()\n",
    "tick_marks = np.arange(len(class_names))\n",
    "plt.xticks(tick_marks, class_names)\n",
    "plt.yticks(tick_marks, class_names)\n",
    "# create heatmap\n",
    "sns.heatmap(pd.DataFrame(cnf_matrix), annot=True, cmap=\"YlGnBu\" ,fmt='g')\n",
    "ax.xaxis.set_label_position(\"top\")\n",
    "plt.tight_layout()\n",
    "plt.title('Confusion matrix', y=1.1)\n",
    "plt.ylabel('Actual label')\n",
    "plt.xlabel('Predicted label')"
   ]
  },
  {
   "cell_type": "code",
   "execution_count": 29,
   "id": "d736c092",
   "metadata": {},
   "outputs": [],
   "source": [
    "# PROBLEM 3 - PART 2"
   ]
  },
  {
   "cell_type": "code",
   "execution_count": 46,
   "id": "67923b29",
   "metadata": {},
   "outputs": [
    {
     "data": {
      "text/plain": [
       "LogisticRegression(class_weight={0: 1, 1: 99}, penalty='l1', random_state=0,\n",
       "                   solver='liblinear')"
      ]
     },
     "execution_count": 46,
     "metadata": {},
     "output_type": "execute_result"
    }
   ],
   "source": [
    "w = {1:99, 0:1}\n",
    "classifier = LogisticRegression(class_weight=w, penalty='l1', solver='liblinear', random_state=0)\n",
    "classifier.fit(X_train, Y_train)"
   ]
  },
  {
   "cell_type": "code",
   "execution_count": 47,
   "id": "1b561be3",
   "metadata": {},
   "outputs": [
    {
     "data": {
      "text/plain": [
       "array([1., 1., 0., 0., 1., 1., 1., 1., 1.])"
      ]
     },
     "execution_count": 47,
     "metadata": {},
     "output_type": "execute_result"
    }
   ],
   "source": [
    "Y_pred = classifier.predict(X_test)\n",
    "Y_pred[0:9]"
   ]
  },
  {
   "cell_type": "code",
   "execution_count": 48,
   "id": "10fe3eec",
   "metadata": {},
   "outputs": [
    {
     "data": {
      "text/plain": [
       "array([[33,  1],\n",
       "       [ 0, 80]], dtype=int64)"
      ]
     },
     "execution_count": 48,
     "metadata": {},
     "output_type": "execute_result"
    }
   ],
   "source": [
    "cnf_matrix = confusion_matrix(Y_test, Y_pred)\n",
    "cnf_matrix"
   ]
  },
  {
   "cell_type": "code",
   "execution_count": 49,
   "id": "a5527b8d",
   "metadata": {},
   "outputs": [
    {
     "name": "stdout",
     "output_type": "stream",
     "text": [
      "AccuracyP3_2: 0.9912280701754386\n",
      "PrecisionP3_2: 0.9876543209876543\n",
      "RecallP3_2: 1.0\n"
     ]
    }
   ],
   "source": [
    "accuracyP3_2 = metrics.accuracy_score(Y_test, Y_pred)\n",
    "precisionP3_2 = metrics.precision_score(Y_test, Y_pred)\n",
    "recallP3_2 = metrics.recall_score(Y_test, Y_pred)\n",
    "    \n",
    "print(\"AccuracyP3_2:\", accuracyP3_2)\n",
    "print(\"PrecisionP3_2:\", precisionP3_2)\n",
    "print(\"RecallP3_2:\",recallP3_2)"
   ]
  },
  {
   "cell_type": "code",
   "execution_count": 34,
   "id": "1763873d",
   "metadata": {},
   "outputs": [
    {
     "data": {
      "text/plain": [
       "Text(0.5, 257.44, 'Predicted label')"
      ]
     },
     "execution_count": 34,
     "metadata": {},
     "output_type": "execute_result"
    },
    {
     "data": {
      "image/png": "[encoded data removed]",
      "text/plain": [
       "<Figure size 432x288 with 2 Axes>"
      ]
     },
     "metadata": {
      "needs_background": "light"
     },
     "output_type": "display_data"
    }
   ],
   "source": [
    "class_names=[0,1] # name of classes\n",
    "fig, ax = plt.subplots()\n",
    "tick_marks = np.arange(len(class_names))\n",
    "plt.xticks(tick_marks, class_names)\n",
    "plt.yticks(tick_marks, class_names)\n",
    "# create heatmap\n",
    "sns.heatmap(pd.DataFrame(cnf_matrix), annot=True, cmap=\"YlGnBu\" ,fmt='g')\n",
    "ax.xaxis.set_label_position(\"top\")\n",
    "plt.tight_layout()\n",
    "plt.title('Confusion matrix', y=1.1)\n",
    "plt.ylabel('Actual label')\n",
    "plt.xlabel('Predicted label')"
   ]
  },
  {
   "cell_type": "code",
   "execution_count": 35,
   "id": "4128a1b9",
   "metadata": {},
   "outputs": [],
   "source": [
    "# PROBLEM 4 - PART 1"
   ]
  },
  {
   "cell_type": "code",
   "execution_count": 51,
   "id": "e68d18b6",
   "metadata": {},
   "outputs": [
    {
     "name": "stdout",
     "output_type": "stream",
     "text": [
      "K-fold with k=5\n",
      "\n",
      "Accuracy for Problem 3_1 =  0.956140350877193 vs \n",
      "Accuracy for Problem 4_1 =  0.935010091600683\n"
     ]
    }
   ],
   "source": [
    "classifier3 = LogisticRegression()\n",
    "validationMetrics = {'accuracy': \"accuracy\"}\n",
    "\n",
    "# K=5\n",
    "cv_results = cross_validate(classifier2, X, Y, cv = 5, groups = None, scoring = validationMetrics)\n",
    "cv_results\n",
    "\n",
    "#Scores for k-fold with k=5\n",
    "print(\"K-fold with k=5\")\n",
    "print()\n",
    "#Comparing results with Problem 3_1\n",
    "print(\"Accuracy for Problem 3_1 = \", accuracyP3, \"vs \\nAccuracy for Problem 4_1 = \", np.mean(cv_results['test_accuracy']))"
   ]
  },
  {
   "cell_type": "code",
   "execution_count": 37,
   "id": "cb4cbc40",
   "metadata": {},
   "outputs": [
    {
     "name": "stdout",
     "output_type": "stream",
     "text": [
      "K-fold with k=10\n",
      "\n",
      "Accuracy for Problem 3_1 =  0.956140350877193 vs \n",
      "Accuracy for Problem 4_1 =  0.9437969924812029\n"
     ]
    }
   ],
   "source": [
    "classifier3 = LogisticRegression()\n",
    "validationMetrics = {'accuracy': \"accuracy\"}\n",
    "\n",
    "# K=10\n",
    "cv_results = cross_validate(classifier2, X, Y, cv = 10, groups = None, scoring = validationMetrics)\n",
    "cv_results\n",
    "\n",
    "#Scores for k-fold with k=10\n",
    "print(\"K-fold with k=10\")\n",
    "print()\n",
    "#Comparing results with Problem 3_1\n",
    "print(\"Accuracy for Problem 3_1 = \", accuracyP3, \"vs \\nAccuracy for Problem 4_1 = \", np.mean(cv_results['test_accuracy']))"
   ]
  },
  {
   "cell_type": "code",
   "execution_count": 38,
   "id": "e5a24788",
   "metadata": {},
   "outputs": [],
   "source": [
    "# PROBLEM 4 - PART 2 (With Weights)"
   ]
  },
  {
   "cell_type": "code",
   "execution_count": 41,
   "id": "cfd1bdf9",
   "metadata": {},
   "outputs": [
    {
     "name": "stdout",
     "output_type": "stream",
     "text": [
      "K-fold with k=5\n",
      "\n",
      "Accuracy for Problem 3_2 =  0.9912280701754386 vs \n",
      "Accuracy for Problem 4_2 =  0.935010091600683\n"
     ]
    }
   ],
   "source": [
    "w = {1:99, 0:1}\n",
    "\n",
    "classifier3 = LogisticRegression(class_weight=w, penalty='l1', solver='liblinear', random_state=0)\n",
    "validationMetrics = {'accuracy': \"accuracy\"}\n",
    "\n",
    "# K=5\n",
    "cv_results = cross_validate(classifier2, X, Y, cv = 5, groups = None, scoring = validationMetrics)\n",
    "cv_results\n",
    "\n",
    "#Scores for k-fold with k=5\n",
    "print(\"K-fold with k=5\")\n",
    "print()\n",
    "#Comparing results with Problem 3_2\n",
    "print(\"Accuracy for Problem 3_2 = \", accuracyP3_2, \"vs \\nAccuracy for Problem 4_2 = \", np.mean(cv_results['test_accuracy']))"
   ]
  },
  {
   "cell_type": "code",
   "execution_count": 42,
   "id": "6009c983",
   "metadata": {},
   "outputs": [
    {
     "name": "stdout",
     "output_type": "stream",
     "text": [
      "K-fold with k=10\n",
      "\n",
      "Accuracy for Problem 3_2 =  0.9912280701754386 vs \n",
      "Accuracy for Problem 4_2 =  0.9437969924812029\n"
     ]
    }
   ],
   "source": [
    "classifier3 = LogisticRegression(class_weight = w)\n",
    "validationMetrics = {'accuracy': \"accuracy\"}\n",
    "\n",
    "# K=5\n",
    "cv_results = cross_validate(classifier2, X, Y, cv = 10, groups = None, scoring = validationMetrics)\n",
    "cv_results\n",
    "\n",
    "#Scores for k-fold with k=10\n",
    "print(\"K-fold with k=10\")\n",
    "print()\n",
    "#Comparing results with Problem 3_2\n",
    "print(\"Accuracy for Problem 3_2 = \", accuracyP3_2, \"vs \\nAccuracy for Problem 4_2 = \", np.mean(cv_results['test_accuracy']))"
   ]
  },
  {
   "cell_type": "code",
   "execution_count": null,
   "id": "123b7860",
   "metadata": {},
   "outputs": [],
   "source": []
  }
 ],
 "metadata": {
  "kernelspec": {
   "display_name": "Python 3 (ipykernel)",
   "language": "python",
   "name": "python3"
  },
  "language_info": {
   "codemirror_mode": {
    "name": "ipython",
    "version": 3
   },
   "file_extension": ".py",
   "mimetype": "text/x-python",
   "name": "python",
   "nbconvert_exporter": "python",
   "pygments_lexer": "ipython3",
   "version": "3.9.7"
  }
 },
 "nbformat": 4,
 "nbformat_minor": 5
}
