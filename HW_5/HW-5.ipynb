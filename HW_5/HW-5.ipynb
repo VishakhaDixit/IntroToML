{
 "cells": [
  {
   "cell_type": "code",
   "execution_count": 20,
   "id": "523d66f5",
   "metadata": {},
   "outputs": [],
   "source": [
    "# Vishakha Dixit\n",
    "# 801265288\n",
    "# HW-5 Solutions\n",
    "\n",
    "import torch\n",
    "torch.version.__version__\n",
    "\n",
    "import numpy as np \n",
    "import pandas as pd \n",
    "\n",
    "import warnings\n",
    "warnings.filterwarnings('ignore')\n",
    "from sklearn.model_selection import train_test_split\n",
    "from sklearn.preprocessing import MinMaxScaler, StandardScaler\n",
    "\n",
    "import torch.optim as optim\n",
    "import torch.nn as nn"
   ]
  },
  {
   "cell_type": "code",
   "execution_count": 2,
   "id": "2f965ee1",
   "metadata": {},
   "outputs": [],
   "source": [
    "# Problem-1"
   ]
  },
  {
   "cell_type": "code",
   "execution_count": 3,
   "id": "0d3780de",
   "metadata": {},
   "outputs": [],
   "source": [
    "# Model and Function Definitions\n",
    "def model(t_u, w, b):\n",
    "  return w * t_u + b\n",
    "\n",
    "def loss_fn(t_p, t_c):\n",
    "  squared_diffs = (t_p - t_c)**2\n",
    "  return squared_diffs.mean()\n",
    "\n",
    "def dloss_fn(t_p, t_c):\n",
    "  dsq_diffs = 2 * (t_p - t_c) / t_p.size(0)\n",
    "  return dsq_diffs\n",
    "\n",
    "def dmodel_dw(t_u, w, b):\n",
    "  return t_u\n",
    "\n",
    "def dmodel_db(t_u, w, b):\n",
    "  return 1.0\n",
    "\n",
    "def grad_fn(t_u, t_c, t_p, w, b):\n",
    "  dloss_dtp = dloss_fn(t_p, t_c)\n",
    "  dloss_dw = dloss_dtp * dmodel_dw(t_u, w, b)\n",
    "  dloss_db = dloss_dtp * dmodel_db(t_u, w, b)\n",
    "  return torch.stack([dloss_dw.sum(), dloss_db.sum()])\n",
    " \n",
    "def training_loop(n_epochs, learning_rate, params, t_u, t_c):\n",
    "  for epoch in range(1, n_epochs + 1):\n",
    "    w, b = params\n",
    "\n",
    "    t_p = model(t_u, w, b)\n",
    "    loss = loss_fn(t_p, t_c)\n",
    "    grad = grad_fn(t_u, t_c, t_p, w, b)\n",
    "\n",
    "    params = params - learning_rate * grad\n",
    "    if epoch % 500 == 0:\n",
    "      print(\"Epoch %d, Loss %f\" %(epoch, float(loss)))\n",
    "  return params"
   ]
  },
  {
   "cell_type": "code",
   "execution_count": 4,
   "id": "b7067313",
   "metadata": {},
   "outputs": [
    {
     "name": "stdout",
     "output_type": "stream",
     "text": [
      "Epoch 500, Loss 7.860116\n",
      "Epoch 1000, Loss 3.828538\n",
      "Epoch 1500, Loss 3.092190\n",
      "Epoch 2000, Loss 2.957697\n",
      "Epoch 2500, Loss 2.933134\n",
      "Epoch 3000, Loss 2.928648\n",
      "Epoch 3500, Loss 2.927830\n",
      "Epoch 4000, Loss 2.927680\n",
      "Epoch 4500, Loss 2.927651\n",
      "Epoch 5000, Loss 2.927648\n"
     ]
    },
    {
     "data": {
      "text/plain": [
       "[<matplotlib.lines.Line2D at 0x150f8834e80>]"
      ]
     },
     "execution_count": 4,
     "metadata": {},
     "output_type": "execute_result"
    },
    {
     "data": {
      "image/png": "[encoded data removed]",
      "text/plain": [
       "<Figure size 640x480 with 1 Axes>"
      ]
     },
     "metadata": {},
     "output_type": "display_data"
    }
   ],
   "source": [
    "t_c = [0.5, 14.0, 15.0, 28.0, 11.0, 8.0, 3.0, -4.0, 6.0, 13.0, 21.0]\n",
    "t_u = [35.7, 55.9, 58.2, 81.9, 56.3, 48.9, 33.9, 21.8, 48.4, 60.4, 68.4]\n",
    "t_c = torch.tensor(t_c)\n",
    "t_u = torch.tensor(t_u)\n",
    "\n",
    "t_un = 0.1 * t_u\n",
    "params = training_loop(\n",
    "n_epochs = 5000,\n",
    "learning_rate = 1e-2,\n",
    "params = torch.tensor([1.0, 0.0]),\n",
    "t_u = t_un,\n",
    "t_c = t_c)\n",
    "\n",
    "# Plot datapoints and the paramters\n",
    "from matplotlib import pyplot as plt\n",
    "\n",
    "t_p = model(t_un, *params)\n",
    "\n",
    "fig = plt.figure()\n",
    "plt.xlabel(\"Temerature F\")\n",
    "plt.ylabel(\"Temerature C\")\n",
    "plt.plot(t_u.numpy(), t_p.detach().numpy())\n",
    "plt.plot(t_u.numpy(), t_c.numpy(), 'o')"
   ]
  },
  {
   "cell_type": "code",
   "execution_count": 5,
   "id": "00a0c6d0",
   "metadata": {},
   "outputs": [],
   "source": [
    "# Non-Linear Model\n",
    "def model_non_lin(t_u, w1, w2, b):\n",
    "  return w2 * t_u ** 2 + w1 * t_u + b\n",
    "\n",
    "def dmodel_dw1(t_u, w1, w2, b):\n",
    "    return t_u\n",
    "\n",
    "def dmodel_dw2(t_u, w1, w2, b):\n",
    "  return t_u**2\n",
    "\n",
    "def dmodel_db_non_lin(t_u, w1, w2, b):\n",
    "    return 1.0\n",
    "\n",
    "def grad_fn_non_lin(t_u, t_c, t_p, w1, w2, b):\n",
    "  dloss_dtp = dloss_fn(t_p, t_c)\n",
    "  dloss_dw1 = dloss_dtp * dmodel_dw1(t_u, w1, w2, b)\n",
    "  dloss_dw2 = dloss_dtp * dmodel_dw2(t_u, w1, w2, b)\n",
    "  dloss_db = dloss_dtp * dmodel_db_non_lin(t_u, w1, w2, b)\n",
    "  return torch.stack([dloss_dw1.sum(), dloss_dw2.sum(), dloss_db.sum()])\n",
    "\n",
    "def training_loop_non_lin(n_epochs, learning_rate, params, t_u, t_c):\n",
    "  for epoch in range(1, n_epochs + 1):\n",
    "    w1, w2, b = params\n",
    "\n",
    "    t_p = model_non_lin(t_u, w1, w2, b)\n",
    "    loss = loss_fn(t_p, t_c)\n",
    "    grad = grad_fn_non_lin(t_u, t_c, t_p, w1, w2, b)\n",
    "    params = params - learning_rate * grad\n",
    "    \n",
    "    if epoch % 500 == 0:\n",
    "      print(\"Epoch %d, Loss %f\" %(epoch, float(loss)))\n",
    "  return params"
   ]
  },
  {
   "cell_type": "code",
   "execution_count": 6,
   "id": "2cb73ad2",
   "metadata": {},
   "outputs": [
    {
     "name": "stdout",
     "output_type": "stream",
     "text": [
      "Epoch 500, Loss 10.708598\n",
      "Epoch 1000, Loss 8.642083\n",
      "Epoch 1500, Loss 7.171005\n",
      "Epoch 2000, Loss 6.123477\n",
      "Epoch 2500, Loss 5.377227\n",
      "Epoch 3000, Loss 4.845286\n",
      "Epoch 3500, Loss 4.465787\n",
      "Epoch 4000, Loss 4.194724\n",
      "Epoch 4500, Loss 4.000802\n",
      "Epoch 5000, Loss 3.861744\n"
     ]
    },
    {
     "data": {
      "text/plain": [
       "[<matplotlib.lines.Line2D at 0x150800cc0d0>]"
      ]
     },
     "execution_count": 6,
     "metadata": {},
     "output_type": "execute_result"
    },
    {
     "data": {
      "image/png": "[encoded data removed]",
      "text/plain": [
       "<Figure size 640x480 with 1 Axes>"
      ]
     },
     "metadata": {},
     "output_type": "display_data"
    }
   ],
   "source": [
    "t_c = [0.5, 14.0, 15.0, 28.0, 11.0, 8.0, 3.0, -4.0, 6.0, 13.0, 21.0]\n",
    "t_u = [35.7, 55.9, 58.2, 81.9, 56.3, 48.9, 33.9, 21.8, 48.4, 60.4, 68.4]\n",
    "t_c = torch.tensor(t_c)\n",
    "t_u = torch.tensor(t_u)\n",
    "\n",
    "t_un = 0.1 * t_u\n",
    "params = training_loop_non_lin(\n",
    "n_epochs = 5000,\n",
    "learning_rate = 1e-4,\n",
    "params = torch.tensor([1.0, 1.0, 0.0]),\n",
    "t_u = t_un,\n",
    "t_c = t_c)\n",
    "\n",
    "# Plot datapoints and the paramters\n",
    "from matplotlib import pyplot as plt\n",
    "\n",
    "t_p = model_non_lin(t_un, *params)\n",
    "\n",
    "fig = plt.figure()\n",
    "plt.xlabel(\"Temerature F\")\n",
    "plt.ylabel(\"Temerature C\")\n",
    "plt.plot(np.sort(t_u.numpy()), np.sort(t_p.detach().numpy()))\n",
    "plt.plot(t_u.numpy(), t_c.numpy(), 'o')"
   ]
  },
  {
   "cell_type": "code",
   "execution_count": 7,
   "id": "0b83742e",
   "metadata": {},
   "outputs": [],
   "source": [
    "# Problem-2"
   ]
  },
  {
   "cell_type": "code",
   "execution_count": 8,
   "id": "2a33f544",
   "metadata": {},
   "outputs": [],
   "source": [
    "housing = pd.DataFrame(pd.read_csv(\"Housing.csv\")) \n",
    "\n",
    "num_vars = ['area', 'bedrooms', 'bathrooms', 'stories', 'parking','price'] \n",
    "Newtrain = housing[num_vars]\n",
    "y = Newtrain.pop('price').to_numpy(np.float64)\n",
    "x = Newtrain.to_numpy(np.float64)"
   ]
  },
  {
   "cell_type": "code",
   "execution_count": 9,
   "id": "8711dbd2",
   "metadata": {},
   "outputs": [],
   "source": [
    "# Model and functions for training of Housing dataset\n",
    "def model_house(x, w, b):\n",
    "  return np.matmul(x, w) + b\n",
    "\n",
    "def dmodel_dw1_house(x, w, b):\n",
    "  return x[:,0]\n",
    "def dmodel_dw2_house(x, w, b):\n",
    "  return x[:,1]\n",
    "def dmodel_dw3_house(x, w, b):\n",
    "  return x[:,2]\n",
    "def dmodel_dw4_house(x, w, b):\n",
    "  return x[:,3]\n",
    "def dmodel_dw5_house(x, w, b):\n",
    "  return x[:,4]\n",
    "\n",
    "def dmodel_db_house(x, w, b):\n",
    "  return 1.0\n",
    "\n",
    "def grad_fn_house(x, y, pred, w, b):\n",
    "  dloss_dtp = dloss_fn(pred, y)\n",
    "  dloss_dw1 = dloss_dtp * dmodel_dw1_house(x, w, b)\n",
    "  dloss_dw2 = dloss_dtp * dmodel_dw2_house(x, w, b)\n",
    "  dloss_dw3 = dloss_dtp * dmodel_dw3_house(x, w, b)\n",
    "  dloss_dw4 = dloss_dtp * dmodel_dw4_house(x, w, b)\n",
    "  dloss_dw5 = dloss_dtp * dmodel_dw5_house(x, w, b)\n",
    "  dloss_db = dloss_dtp * dmodel_db_house(x, w, b)\n",
    "  return torch.stack([dloss_dw1.sum(), dloss_dw2.sum(), dloss_dw3.sum(), dloss_dw4.sum(), dloss_dw5.sum(), dloss_db.sum()])\n",
    " \n",
    "def training_loop_house(n_epochs, learning_rate, params, x, y):\n",
    "  for epoch in range(1, n_epochs + 1):\n",
    "    b = params[-1]\n",
    "    w = params[:-1]\n",
    "\n",
    "    pred = model_house(x, w, b)\n",
    "    loss = loss_fn(pred, y)\n",
    "    grad = grad_fn_house(x, y, pred, w, b)\n",
    "    #print(params, grad)\n",
    "    #input()\n",
    "    params = params - learning_rate * grad\n",
    "    if epoch % 500 == 0:\n",
    "      print(\"Epoch %d, Loss %f\" %(epoch, float(loss)))\n",
    "  return params"
   ]
  },
  {
   "cell_type": "code",
   "execution_count": 10,
   "id": "b595f921",
   "metadata": {},
   "outputs": [
    {
     "name": "stdout",
     "output_type": "stream",
     "text": [
      "Epoch 500, Loss 2024805783902.583984\n",
      "Epoch 1000, Loss 1863258466727.914307\n",
      "Epoch 1500, Loss 1768051362590.842285\n",
      "Epoch 2000, Loss 1704595000950.190430\n",
      "Epoch 2500, Loss 1659789065346.188721\n",
      "Epoch 3000, Loss 1627244053690.387207\n",
      "Epoch 3500, Loss 1603242094079.036865\n",
      "Epoch 4000, Loss 1585383250941.523193\n",
      "Epoch 4500, Loss 1572022959620.682861\n",
      "Epoch 5000, Loss 1561993317652.091797\n",
      "tensor(7528113.7117, dtype=torch.float64)\n",
      "tensor(13300000., dtype=torch.float64)\n"
     ]
    },
    {
     "data": {
      "text/plain": [
       "<matplotlib.legend.Legend at 0x1508027f7f0>"
      ]
     },
     "execution_count": 10,
     "metadata": {},
     "output_type": "execute_result"
    },
    {
     "data": {
      "image/png": "[encoded data removed]",
      "text/plain": [
       "<Figure size 640x480 with 1 Axes>"
      ]
     },
     "metadata": {},
     "output_type": "display_data"
    }
   ],
   "source": [
    "max_x = np.amax(x, axis=0)\n",
    "max_y = np.amax(y)\n",
    "\n",
    "new_x = x\n",
    "new_y = y \n",
    "\n",
    "# normalize all parameters\n",
    "new_x[:,0] = x[:,0]/max_x[0]\n",
    "new_x[:,1] = x[:,1]/max_x[1]\n",
    "new_x[:,2] = x[:,2]/max_x[2]\n",
    "new_x[:,3] = x[:,3]/max_x[3]\n",
    "new_x[:,4] = x[:,4]/max_x[4]\n",
    "# new_y = y/max_y\n",
    "\n",
    "new_x = torch.tensor(new_x)\n",
    "new_y = torch.tensor(new_y)\n",
    "\n",
    "# train model\n",
    "params = training_loop_house(\n",
    "n_epochs = 5000,\n",
    "learning_rate = 1e-2,\n",
    "params = torch.tensor([1.0, 1.0, 1.0, 1.0, 1.0, 0.0]),\n",
    "x = new_x,\n",
    "y = new_y)\n",
    "\n",
    "# Plot datapoints and the paramters\n",
    "from matplotlib import pyplot as plt\n",
    "\n",
    "pred = model_house(new_x, params[:-1], params[-1])\n",
    "print(pred[0])\n",
    "print(new_y[0])\n",
    "fig = plt.figure()\n",
    "plt.xlabel(\"Sample\")\n",
    "plt.ylabel(\"Cost\")\n",
    "plt.ylim([np.amin(y) * .95, np.amax(y) * 1.05])\n",
    "plt.plot(pred.detach().numpy(), 'o', label=\"Predicted\")\n",
    "plt.plot(new_y.numpy(), 'o', label=\"Actual Cost\")\n",
    "plt.legend()"
   ]
  },
  {
   "cell_type": "code",
   "execution_count": 11,
   "id": "fc3f5b6d",
   "metadata": {},
   "outputs": [
    {
     "name": "stdout",
     "output_type": "stream",
     "text": [
      "Epoch 500, Loss 1562038499136.447754\n",
      "Epoch 1000, Loss 1533011436311.196045\n",
      "Epoch 1500, Loss 1531161953474.365967\n",
      "Epoch 2000, Loss 1531023620738.500000\n",
      "Epoch 2500, Loss 1531010431223.014648\n",
      "Epoch 3000, Loss 1531008830650.815186\n",
      "Epoch 3500, Loss 1531008603760.256836\n",
      "Epoch 4000, Loss 1531008569139.817139\n",
      "Epoch 4500, Loss 1531008563697.867188\n",
      "Epoch 5000, Loss 1531008562832.778076\n"
     ]
    }
   ],
   "source": [
    "# train model\n",
    "params = training_loop_house(\n",
    "n_epochs = 5000,\n",
    "learning_rate = 1e-1,\n",
    "params = torch.tensor([1.0, 1.0, 1.0, 1.0, 1.0, 0.0]),\n",
    "x = new_x,\n",
    "y = new_y)"
   ]
  },
  {
   "cell_type": "code",
   "execution_count": 12,
   "id": "3085d80a",
   "metadata": {},
   "outputs": [
    {
     "name": "stdout",
     "output_type": "stream",
     "text": [
      "Epoch 500, Loss 3072062726282.624512\n",
      "Epoch 1000, Loss 2296907167134.038574\n",
      "Epoch 1500, Loss 2232371360543.122070\n",
      "Epoch 2000, Loss 2193782354830.531738\n",
      "Epoch 2500, Loss 2159229566168.539551\n",
      "Epoch 3000, Loss 2127641802634.025635\n",
      "Epoch 3500, Loss 2098653066954.163330\n",
      "Epoch 4000, Loss 2071963969776.395020\n",
      "Epoch 4500, Loss 2047315431531.889648\n",
      "Epoch 5000, Loss 2024482486682.452148\n"
     ]
    }
   ],
   "source": [
    "# train model\n",
    "params = training_loop_house(\n",
    "n_epochs = 5000,\n",
    "learning_rate = 1e-3,\n",
    "params = torch.tensor([1.0, 1.0, 1.0, 1.0, 1.0, 0.0]),\n",
    "x = new_x,\n",
    "y = new_y)"
   ]
  },
  {
   "cell_type": "code",
   "execution_count": 13,
   "id": "3cd66db3",
   "metadata": {},
   "outputs": [
    {
     "name": "stdout",
     "output_type": "stream",
     "text": [
      "Epoch 500, Loss 19251112139782.332031\n",
      "Epoch 1000, Loss 14310293891420.976562\n",
      "Epoch 1500, Loss 10812095187644.591797\n",
      "Epoch 2000, Loss 8334880776716.513672\n",
      "Epoch 2500, Loss 6580251272419.132812\n",
      "Epoch 3000, Loss 5337023626161.937500\n",
      "Epoch 3500, Loss 4455739431133.308594\n",
      "Epoch 4000, Loss 3830623970746.783203\n",
      "Epoch 4500, Loss 3386818298639.674316\n",
      "Epoch 5000, Loss 3071343142051.185059\n"
     ]
    }
   ],
   "source": [
    "# train model\n",
    "params = training_loop_house(\n",
    "n_epochs = 5000,\n",
    "learning_rate = 1e-4,\n",
    "params = torch.tensor([1.0, 1.0, 1.0, 1.0, 1.0, 0.0]),\n",
    "x = new_x,\n",
    "y = new_y)"
   ]
  },
  {
   "cell_type": "code",
   "execution_count": 14,
   "id": "3edd2a22",
   "metadata": {},
   "outputs": [],
   "source": [
    "# Problem-3"
   ]
  },
  {
   "cell_type": "code",
   "execution_count": 15,
   "id": "35ead59e",
   "metadata": {},
   "outputs": [],
   "source": [
    "num_vars = ['area', 'bedrooms', 'bathrooms', 'stories', 'mainroad', 'guestroom', 'basement', 'hotwaterheating', 'airconditioning', 'parking', 'prefarea', 'price']\n",
    "\n",
    "varList=['mainroad','guestroom','basement','hotwaterheating','airconditioning', 'prefarea']\n",
    "\n",
    "# Defining the map function\n",
    "def binary_map(x):\n",
    "    return x.map({'yes':1,\"no\":0})\n",
    "\n",
    "housing[varList] = housing[varList].apply(binary_map)"
   ]
  },
  {
   "cell_type": "code",
   "execution_count": 16,
   "id": "229513db",
   "metadata": {},
   "outputs": [
    {
     "name": "stdout",
     "output_type": "stream",
     "text": [
      "torch.Size([109, 1])\n"
     ]
    }
   ],
   "source": [
    "# splitting the data\n",
    "scaler = StandardScaler()\n",
    "np.random.seed(0)\n",
    "df_train, df_test = train_test_split(housing, train_size=0.8, test_size=0.2, random_state=np.random)\n",
    "\n",
    "df_Newtrain = df_train[num_vars]\n",
    "df_Newtest = df_test[num_vars]\n",
    "\n",
    "# scaling the data\n",
    "df_Newtrain[num_vars] = scaler.fit_transform(df_Newtrain[num_vars])\n",
    "df_Newtest[num_vars] = scaler.fit_transform(df_Newtest[num_vars])\n",
    "\n",
    "y_Newtrain = df_Newtrain.pop('price')\n",
    "x_Newtrain = df_Newtrain\n",
    "y_Newtest = df_Newtest.pop('price')\n",
    "x_Newtest = df_Newtest\n",
    "\n",
    "# convert the data to tensors\n",
    "x_train = torch.tensor(x_Newtrain.values).float()\n",
    "x_val = torch.tensor(x_Newtest.values).float()\n",
    "y_train = torch.tensor(y_Newtrain.values).float().unsqueeze(-1)\n",
    "y_val = torch.tensor(y_Newtest.values).float().unsqueeze(-1)\n",
    "print(y_val.size())"
   ]
  },
  {
   "cell_type": "code",
   "execution_count": 17,
   "id": "028f1f9d",
   "metadata": {},
   "outputs": [],
   "source": [
    "def training_loop(n_epochs, optimizer, model, loss_fn, x_train, x_val, y_train, y_val):\n",
    "    for epoch in range(1, n_epochs + 1):\n",
    "        p_train = model(x_train) # <1>\n",
    "        loss_train = loss_fn(p_train, y_train)\n",
    "\n",
    "        p_val = model(x_val) # <1>\n",
    "        loss_val = loss_fn(p_val, y_val)\n",
    "        \n",
    "        optimizer.zero_grad()\n",
    "        loss_train.backward() # <2>\n",
    "        optimizer.step()\n",
    "\n",
    "        if epoch == 1 or epoch % 10 == 0:\n",
    "            print(f\"Epoch {epoch}, Training loss {loss_train.item():.4f},\"\n",
    "                  f\" Validation loss {loss_val.item():.4f}\")"
   ]
  },
  {
   "cell_type": "code",
   "execution_count": 18,
   "id": "36392d9d",
   "metadata": {},
   "outputs": [
    {
     "name": "stdout",
     "output_type": "stream",
     "text": [
      "Epoch 1, Training loss 1.0741, Validation loss 1.0900\n",
      "Epoch 10, Training loss 1.0555, Validation loss 1.0723\n",
      "Epoch 20, Training loss 1.0356, Validation loss 1.0534\n",
      "Epoch 30, Training loss 1.0163, Validation loss 1.0351\n",
      "Epoch 40, Training loss 0.9976, Validation loss 1.0174\n",
      "Epoch 50, Training loss 0.9795, Validation loss 1.0002\n",
      "Epoch 60, Training loss 0.9620, Validation loss 0.9836\n",
      "Epoch 70, Training loss 0.9450, Validation loss 0.9675\n",
      "Epoch 80, Training loss 0.9284, Validation loss 0.9518\n",
      "Epoch 90, Training loss 0.9123, Validation loss 0.9365\n",
      "Epoch 100, Training loss 0.8967, Validation loss 0.9217\n",
      "Epoch 110, Training loss 0.8814, Validation loss 0.9072\n",
      "Epoch 120, Training loss 0.8665, Validation loss 0.8931\n",
      "Epoch 130, Training loss 0.8519, Validation loss 0.8793\n",
      "Epoch 140, Training loss 0.8377, Validation loss 0.8658\n",
      "Epoch 150, Training loss 0.8238, Validation loss 0.8527\n",
      "Epoch 160, Training loss 0.8103, Validation loss 0.8398\n",
      "Epoch 170, Training loss 0.7970, Validation loss 0.8272\n",
      "Epoch 180, Training loss 0.7840, Validation loss 0.8149\n",
      "Epoch 190, Training loss 0.7713, Validation loss 0.8028\n",
      "Epoch 200, Training loss 0.7589, Validation loss 0.7910\n"
     ]
    }
   ],
   "source": [
    "seq_model = nn.Sequential(\n",
    "            nn.Linear(len(num_vars)-1, 8),\n",
    "            nn.Tanh(),\n",
    "            nn.Linear(8, 1))\n",
    "\n",
    "optimizer = optim.SGD(seq_model.parameters(), lr=1e-3)\n",
    "\n",
    "training_loop(\n",
    "    n_epochs = 200, \n",
    "    optimizer = optimizer,\n",
    "    model = seq_model,\n",
    "    loss_fn = nn.MSELoss(),\n",
    "    x_train = x_train,\n",
    "    x_val = x_val, \n",
    "    y_train = y_train,\n",
    "    y_val = y_val)"
   ]
  },
  {
   "cell_type": "code",
   "execution_count": 19,
   "id": "a6694077",
   "metadata": {},
   "outputs": [
    {
     "name": "stdout",
     "output_type": "stream",
     "text": [
      "Epoch 1, Training loss 1.2116, Validation loss 1.2009\n",
      "Epoch 10, Training loss 1.1992, Validation loss 1.1885\n",
      "Epoch 20, Training loss 1.1862, Validation loss 1.1756\n",
      "Epoch 30, Training loss 1.1740, Validation loss 1.1635\n",
      "Epoch 40, Training loss 1.1625, Validation loss 1.1522\n",
      "Epoch 50, Training loss 1.1518, Validation loss 1.1415\n",
      "Epoch 60, Training loss 1.1416, Validation loss 1.1314\n",
      "Epoch 70, Training loss 1.1321, Validation loss 1.1219\n",
      "Epoch 80, Training loss 1.1231, Validation loss 1.1130\n",
      "Epoch 90, Training loss 1.1146, Validation loss 1.1046\n",
      "Epoch 100, Training loss 1.1066, Validation loss 1.0966\n",
      "Epoch 110, Training loss 1.0991, Validation loss 1.0891\n",
      "Epoch 120, Training loss 1.0919, Validation loss 1.0820\n",
      "Epoch 130, Training loss 1.0852, Validation loss 1.0752\n",
      "Epoch 140, Training loss 1.0788, Validation loss 1.0688\n",
      "Epoch 150, Training loss 1.0727, Validation loss 1.0628\n",
      "Epoch 160, Training loss 1.0669, Validation loss 1.0570\n",
      "Epoch 170, Training loss 1.0614, Validation loss 1.0515\n",
      "Epoch 180, Training loss 1.0562, Validation loss 1.0463\n",
      "Epoch 190, Training loss 1.0512, Validation loss 1.0413\n",
      "Epoch 200, Training loss 1.0464, Validation loss 1.0365\n"
     ]
    }
   ],
   "source": [
    "seq_model_2 = nn.Sequential(\n",
    "            nn.Linear(len(num_vars)-1, 8),\n",
    "            nn.Tanh(),\n",
    "            nn.Linear(8, 6),\n",
    "            nn.Tanh(),\n",
    "            nn.Linear(6, 4),\n",
    "            nn.Tanh(),\n",
    "            nn.Linear(4, 1))\n",
    "\n",
    "optimizer = optim.SGD(seq_model_2.parameters(), lr=1e-3)\n",
    "\n",
    "training_loop(\n",
    "    n_epochs = 200, \n",
    "    optimizer = optimizer,\n",
    "    model = seq_model_2,\n",
    "    loss_fn = nn.MSELoss(),\n",
    "    x_train = x_train,\n",
    "    x_val = x_val, \n",
    "    y_train = y_train,\n",
    "    y_val = y_val)"
   ]
  },
  {
   "cell_type": "code",
   "execution_count": null,
   "id": "0560159c",
   "metadata": {},
   "outputs": [],
   "source": []
  }
 ],
 "metadata": {
  "kernelspec": {
   "display_name": "Python 3 (ipykernel)",
   "language": "python",
   "name": "python3"
  },
  "language_info": {
   "codemirror_mode": {
    "name": "ipython",
    "version": 3
   },
   "file_extension": ".py",
   "mimetype": "text/x-python",
   "name": "python",
   "nbconvert_exporter": "python",
   "pygments_lexer": "ipython3",
   "version": "3.8.13"
  }
 },
 "nbformat": 4,
 "nbformat_minor": 5
}
